{
 "cells": [
  {
   "cell_type": "code",
   "execution_count": 1,
   "metadata": {},
   "outputs": [
    {
     "name": "stdout",
     "output_type": "stream",
     "text": [
      "7486\n"
     ]
    }
   ],
   "source": [
    "#準備#\n",
    "#文章数が知りたい#\n",
    "# mecab<mecabをかけるファイル>かけた後のファイル名　でコマンドプロンプトで実行\n",
    "path='data/neko.txt.mecab'\n",
    "List_of_sentence=[]\n",
    "\n",
    "def len_sent():\n",
    "    with open(path) as f:\n",
    "        List=[]   \n",
    "        List_of_dic=[]\n",
    "        i=0\n",
    "        for line in f:\n",
    "        \n",
    "            dic={\"surface\":\"\",\"base\":\"\",\"pos\":\"\",\"pos1\":\"\"}\n",
    "            List=line.replace('\\n','').replace('\\t',',').split(\",\")#文章全体をdicに要素ごとに格納\n",
    "            if List[0]!='EOS':\n",
    "                dic[\"surface\"]=List[0]\n",
    "                dic[\"base\"]=List[7]\n",
    "                dic[\"pos\"]=List[1]\n",
    "                dic[\"pos1\"]=List[2]\n",
    "                if dic[\"pos1\"]!='句点':\n",
    "                    List_of_dic.append(dic)\n",
    "                \n",
    "                else:\n",
    "                    i+=1\n",
    "                    List_of_dic.append(dic)\n",
    "                    #List_of_sentence.append(List_of_dic)\n",
    "                    List_of_dic=[]\n",
    "        return i            \n",
    "        \n",
    "                \n",
    "\n",
    "sentencelendata=len_sent()\n",
    "print(sentencelendata)\n"
   ]
  },
  {
   "cell_type": "markdown",
   "metadata": {},
   "source": [
    "## 30. 形態素解析結果の読み込み"
   ]
  },
  {
   "cell_type": "markdown",
   "metadata": {},
   "source": [
    "形態素解析結果（neko.txt.mecab）を読み込むプログラムを実装せよ．ただし，各形態素は表層形（surface），基本形（base），品詞（pos），品詞細分類1（pos1）をキーとするマッピング型に格納し，1文を形態素（マッピング型）のリストとして表現せよ．第4章の残りの問題では，ここで作ったプログラムを活用せよ．"
   ]
  },
  {
   "cell_type": "code",
   "execution_count": 2,
   "metadata": {},
   "outputs": [
    {
     "name": "stdout",
     "output_type": "stream",
     "text": [
      "[{'surface': '一', 'base': '一', 'pos': '名詞', 'pos1': '数'}, {'surface': '\\u3000', 'base': '\\u3000', 'pos': '記号', 'pos1': '空白'}, {'surface': '吾輩', 'base': '吾輩', 'pos': '名詞', 'pos1': '代名詞'}, {'surface': 'は', 'base': 'は', 'pos': '助詞', 'pos1': '係助詞'}, {'surface': '猫', 'base': '猫', 'pos': '名詞', 'pos1': '一般'}, {'surface': 'で', 'base': 'だ', 'pos': '助動詞', 'pos1': '*'}, {'surface': 'ある', 'base': 'ある', 'pos': '助動詞', 'pos1': '*'}, {'surface': '。', 'base': '。', 'pos': '記号', 'pos1': '句点'}]\n"
     ]
    }
   ],
   "source": [
    "path='data/neko.txt.mecab'\n",
    "List_of_sentence=[]\n",
    "\n",
    "def mecab_print(n):\n",
    "    with open(path) as f:\n",
    "        List=[]   \n",
    "        List_of_dic=[]\n",
    "        i=0\n",
    "        for line in f:\n",
    "            dic={\"surface\":\"\",\"base\":\"\",\"pos\":\"\",\"pos1\":\"\"}\n",
    "            List=line.replace('\\n','').replace('\\t',',').split(\",\")\n",
    "            if List[0]!='EOS':\n",
    "                dic[\"surface\"]=List[0]\n",
    "                dic[\"base\"]=List[7]\n",
    "                dic[\"pos\"]=List[1]\n",
    "                dic[\"pos1\"]=List[2]\n",
    "                if dic[\"pos1\"]!='句点':\n",
    "                    List_of_dic.append(dic)\n",
    "                \n",
    "                else:\n",
    "                    i+=1\n",
    "                    List_of_dic.append(dic)\n",
    "                    yield List_of_dic\n",
    "                    List_of_dic=[]\n",
    "                    \n",
    "            if i==n:\n",
    "                break\n",
    "            \n",
    "                \n",
    "for sentencedata in mecab_print(1):#多いので省略\n",
    "    print(sentencedata)\n",
    "    \n",
    "    \n"
   ]
  },
  {
   "cell_type": "markdown",
   "metadata": {},
   "source": [
    "## 31. 動詞"
   ]
  },
  {
   "cell_type": "markdown",
   "metadata": {},
   "source": [
    "動詞の表層形をすべて抽出せよ．"
   ]
  },
  {
   "cell_type": "code",
   "execution_count": 3,
   "metadata": {},
   "outputs": [
    {
     "name": "stdout",
     "output_type": "stream",
     "text": [
      "['生れ', 'つか', 'し', '泣い', 'し', 'いる', '始め', '見']\n"
     ]
    }
   ],
   "source": [
    "verb_list=[]\n",
    "for sentencedata in mecab_print(5):#多いので省略\n",
    "    for dic in sentencedata:\n",
    "        if dic[\"pos\"]==\"動詞\":\n",
    "            verb_list.append(dic[\"surface\"])\n",
    "print(verb_list)   \n"
   ]
  },
  {
   "cell_type": "markdown",
   "metadata": {},
   "source": [
    "## 32. 動詞の原形"
   ]
  },
  {
   "cell_type": "markdown",
   "metadata": {},
   "source": [
    "動詞の原形をすべて抽出せよ．"
   ]
  },
  {
   "cell_type": "code",
   "execution_count": 4,
   "metadata": {},
   "outputs": [
    {
     "name": "stdout",
     "output_type": "stream",
     "text": [
      "['生れる', 'つく', 'する', '泣く', 'する', 'いる', '始める', '見る']\n"
     ]
    }
   ],
   "source": [
    "verb_list=[]\n",
    "for sentencedata in mecab_print(5):#多いので省略\n",
    "    for dic in sentencedata:\n",
    "        if dic[\"pos\"]==\"動詞\":\n",
    "            verb_list.append(dic[\"base\"])\n",
    "print(verb_list)"
   ]
  },
  {
   "cell_type": "markdown",
   "metadata": {},
   "source": [
    "## 33. 「AのB」"
   ]
  },
  {
   "cell_type": "markdown",
   "metadata": {},
   "source": [
    "2つの名詞が「の」で連結されている名詞句を抽出せよ．"
   ]
  },
  {
   "cell_type": "code",
   "execution_count": 5,
   "metadata": {},
   "outputs": [
    {
     "name": "stdout",
     "output_type": "stream",
     "text": [
      "['彼の掌']\n",
      "['掌の上', '書生の顔']\n",
      "['はずの顔']\n",
      "['顔の真中']\n",
      "['穴の中']\n",
      "['書生の掌']\n",
      "['何の事']\n",
      "['肝心の母親']\n",
      "['藁の上', '笹原の中']\n"
     ]
    }
   ],
   "source": [
    "noun_brocks=[]\n",
    "noun_memory1=\"\" \n",
    "noun_memory2=\"\"\n",
    "flag=0\n",
    "count=0\n",
    "for sentencedata in mecab_print(30):#長いので省略\n",
    "    for dic in sentencedata:\n",
    "        if flag==0:\n",
    "            if dic[\"pos\"]==\"名詞\":\n",
    "                noun_memory1=dic[\"surface\"]\n",
    "                flag=1\n",
    "            else:\n",
    "                flag=0\n",
    "                noun_memory1=\"\"\n",
    "                \n",
    "        elif flag==1:#noun_memory1が空じゃなければ\n",
    "            if dic[\"surface\"]==\"の\":\n",
    "                flag=2\n",
    "            else:\n",
    "                flag=0\n",
    "                noun_memory1=\"\"\n",
    "                \n",
    "        elif flag==2:#noun_memory1の次に「の」が来たら\n",
    "            if dic[\"pos\"]==\"名詞\":\n",
    "                noun_memory2=dic[\"surface\"]\n",
    "                noun_brocks.append(noun_memory1+\"の\"+noun_memory2)\n",
    "                count+=1\n",
    "                \n",
    "                #メモリをリセット\n",
    "                noun_memory1=\"\"\n",
    "                noun_memory2=\"\"\n",
    "                flag=0\n",
    "            else:\n",
    "                flag=0\n",
    "                noun_memory1=\"\"\n",
    "                \n",
    "    if count!=0:#文章中に1個以上「AのB」が存在したら\n",
    "        print(noun_brocks)\n",
    "        noun_brocks=[]\n",
    "        count=0\n",
    "\n",
    "            "
   ]
  },
  {
   "cell_type": "markdown",
   "metadata": {},
   "source": [
    "## 34. 名詞の連接"
   ]
  },
  {
   "cell_type": "markdown",
   "metadata": {},
   "source": [
    "名詞の連接（連続して出現する名詞）を最長一致で抽出せよ"
   ]
  },
  {
   "cell_type": "code",
   "execution_count": 6,
   "metadata": {},
   "outputs": [
    {
     "name": "stdout",
     "output_type": "stream",
     "text": [
      "['一', '吾輩', '猫']\n",
      "['名前']\n",
      "['どこ', '見当']\n",
      "['何', '所', 'ニャーニャー', 'いた事', '記憶']\n",
      "['吾輩', 'ここ', '人間', 'もの']\n",
      "['人間中', '一番獰悪']\n",
      "['書生', 'の', '我々', '話']\n",
      "['当時', '何', '考']\n",
      "['彼', '掌', 'スー', '時', '感じ']\n",
      "['掌', '上', '書生', '顔', 'の', '人間', 'もの', '始']\n"
     ]
    }
   ],
   "source": [
    "for sentencedata in mecab_print(10):\n",
    "    lengcounter=0\n",
    "    lengmemory=0\n",
    "    final_noun_memory=[]#名詞のリスト\n",
    "    noun_memory=\"\" #保持される一文中の最高の連続名詞数\n",
    "    for dic in sentencedata:\n",
    "        if flag==0:\n",
    "            if dic[\"pos\"]==\"名詞\":\n",
    "                noun_memory=dic[\"surface\"]\n",
    "                lengcounter+=1\n",
    "                flag=1\n",
    "                \n",
    "        elif flag==1:#前の単語が名詞なら\n",
    "            if dic[\"pos\"]==\"名詞\":#また名詞が来たらnoun_memoryに足してく\n",
    "                noun_memory=noun_memory+dic[\"surface\"]\n",
    "                lengcounter+=1\n",
    "            else:#名詞じゃなかったらそれまでのfinalnounlistと長さを比較する\n",
    "                flag=0\n",
    "                if lengcounter > lengmemory:#\n",
    "                    lengmemory=lengcounter\n",
    "                    final_noun_memory=[]\n",
    "                    final_noun_memory.append(noun_memory)\n",
    "                \n",
    "                elif lengcounter==lengmemory:\n",
    "                    final_noun_memory.append(noun_memory)           \n",
    "                noun_memory=\"\"\n",
    "                lengcounter=0\n",
    "          \n",
    "    print(final_noun_memory)\n",
    "    "
   ]
  },
  {
   "cell_type": "code",
   "execution_count": 7,
   "metadata": {},
   "outputs": [
    {
     "name": "stdout",
     "output_type": "stream",
     "text": [
      "[\"manyaslip'twixtthecupandthelip\", '明治三十八年何月何日戸締り']\n",
      "10\n"
     ]
    }
   ],
   "source": [
    "#文章全体で最長一致#\n",
    "final_noun_memory_of_all=[] #文章全体の最長単語が入ったリスト\n",
    "masterlengmemory=0 #文章全体で最長一致の長さを記憶する\n",
    "for sentencedata in mecab_print(7486):\n",
    "    lengcounter=0\n",
    "    lengmemory=0\n",
    "    final_noun_memory=[]#名詞のリスト\n",
    "    noun_memory=\"\" #保持される一文中の最高の連続名詞数\n",
    "    for dic in sentencedata:\n",
    "        if flag==0:\n",
    "            if dic[\"pos\"]==\"名詞\":\n",
    "                noun_memory=dic[\"surface\"]\n",
    "                lengcounter+=1\n",
    "                flag=1\n",
    "                \n",
    "        elif flag==1:#前の単語が名詞なら\n",
    "            if dic[\"pos\"]==\"名詞\":#また名詞が来たらnoun_memoryに足してく\n",
    "                noun_memory=noun_memory+dic[\"surface\"]\n",
    "                lengcounter+=1\n",
    "            else:#名詞じゃなかったらそれまでの# finalnounlistと長さを比較する\n",
    "                flag=0\n",
    "                if lengcounter > lengmemory:#\n",
    "                    lengmemory=lengcounter\n",
    "                    final_noun_memory=[]\n",
    "                    final_noun_memory.append(noun_memory)\n",
    "                \n",
    "                elif lengcounter==lengmemory:\n",
    "                    final_noun_memory.append(noun_memory)           \n",
    "                noun_memory=\"\"\n",
    "                lengcounter=0\n",
    "                \n",
    "    if lengmemory>masterlengmemory:#上のことを文章全体でやる\n",
    "        masterlengmemory=lengmemory\n",
    "        final_noun_memory_of_all=[]\n",
    "        final_noun_memory_of_all=final_noun_memory\n",
    "    elif lengmemory==masterlengmemory:\n",
    "        final_noun_memory_of_all+=final_noun_memory\n",
    "            \n",
    "                \n",
    "print(final_noun_memory_of_all)\n",
    "print(masterlengmemory)\n",
    "    "
   ]
  },
  {
   "cell_type": "markdown",
   "metadata": {},
   "source": [
    "## 35. 単語の出現頻度"
   ]
  },
  {
   "cell_type": "markdown",
   "metadata": {},
   "source": [
    "文章中に出現する単語とその出現頻度を求め，出現頻度の高い順に並べよ．"
   ]
  },
  {
   "cell_type": "code",
   "execution_count": 8,
   "metadata": {},
   "outputs": [
    {
     "name": "stdout",
     "output_type": "stream",
     "text": [
      "('の', 9194)\n",
      "('。', 7486)\n",
      "('て', 6868)\n",
      "('、', 6772)\n",
      "('は', 6420)\n",
      "('に', 6243)\n",
      "('を', 6071)\n",
      "('と', 5508)\n",
      "('が', 5337)\n",
      "('た', 3988)\n"
     ]
    }
   ],
   "source": [
    "#35#\n",
    "import collections  \n",
    "\n",
    "List_for_sentense=[]\n",
    "for sentencedata in mecab_print(7486):\n",
    "    for dic in sentencedata:\n",
    "        List_for_sentense.append(dic[\"surface\"]) \n",
    "        \n",
    "c=collections.Counter(List_for_sentense)  #リストの出現回数ごとに新たな辞書を生成\n",
    "dictionary=c.most_common()\n",
    "\n",
    "for i in range(10):\n",
    "    print(dictionary[i])"
   ]
  },
  {
   "cell_type": "markdown",
   "metadata": {},
   "source": [
    "## 36. 頻度上位10語"
   ]
  },
  {
   "cell_type": "markdown",
   "metadata": {},
   "source": [
    "出現頻度が高い10語とその出現頻度をグラフ（例えば棒グラフなど）で表示せよ．"
   ]
  },
  {
   "cell_type": "code",
   "execution_count": 9,
   "metadata": {},
   "outputs": [
    {
     "name": "stdout",
     "output_type": "stream",
     "text": [
      "['の', '。', 'て', '、', 'は', 'に', 'を', 'と', 'が', 'た']\n"
     ]
    },
    {
     "data": {
      "text/plain": [
       "<Figure size 640x480 with 1 Axes>"
      ]
     },
     "metadata": {},
     "output_type": "display_data"
    }
   ],
   "source": [
    "#countsには頻度,valueには単語が入る#\n",
    "import matplotlib.pyplot as plt\n",
    "\n",
    "values,counts=zip(*dictionary) #要素と出現回数を分けたリストを個別生成\n",
    "\n",
    "print(list(values[:10]))\n",
    "\n",
    "plt.bar(list(values[:10]),counts[:10],tick_label=list(values[:10]))\n",
    "plt.show()"
   ]
  },
  {
   "cell_type": "markdown",
   "metadata": {},
   "source": [
    "## 37. 「猫」と共起頻度の高い上位10語"
   ]
  },
  {
   "cell_type": "markdown",
   "metadata": {},
   "source": [
    "「猫」とよく共起する（共起頻度が高い）10語とその出現頻度をグラフ（例えば棒グラフなど）で表示せよ．"
   ]
  },
  {
   "cell_type": "code",
   "execution_count": 10,
   "metadata": {},
   "outputs": [
    {
     "name": "stdout",
     "output_type": "stream",
     "text": [
      "('の', 397)\n",
      "('は', 284)\n",
      "('、', 265)\n",
      "('に', 251)\n",
      "('を', 240)\n",
      "('て', 236)\n",
      "('。', 219)\n",
      "('と', 210)\n",
      "('が', 185)\n",
      "('で', 175)\n",
      "['の', 'は', '、', 'に', 'を', 'て', '。', 'と', 'が', 'で']\n"
     ]
    },
    {
     "data": {
      "image/png": "[encoded data removed]",
      "text/plain": [
       "<Figure size 432x288 with 1 Axes>"
      ]
     },
     "metadata": {
      "needs_background": "light"
     },
     "output_type": "display_data"
    }
   ],
   "source": [
    "List_for_sentense=[]\n",
    "plt.rcParams['font.family'] = 'IPAPGothic'\n",
    "\n",
    "for sentencedata in mecab_print(7486):\n",
    "    \n",
    "    cat_check=0\n",
    "    List_for_sentense_temp=[]\n",
    "    \n",
    "    for dic in sentencedata:\n",
    "        List_for_sentense_temp.append(dic[\"surface\"])\n",
    "        if \"猫\" in dic.values():\n",
    "            cat_check=1\n",
    "    if cat_check==1:\n",
    "        List_for_sentense+=List_for_sentense_temp\n",
    "                        \n",
    "c=collections.Counter(List_for_sentense) #リストの出現回数ごとに新たな辞書を生成\n",
    "c[\"猫\"]=0#猫は消す\n",
    "dictionary=c.most_common()#出現回数ごとに並べ替え\n",
    "\n",
    "\n",
    "for i in range(10):\n",
    "    print(dictionary[i])\n",
    "    \n",
    "values,counts=zip(*dictionary) #要素と出現回数を分けたリストを個別生成\n",
    "\n",
    "print(list(values[:10]))\n",
    "plt.rcParams[\"font.family\"]=\"IPAexGothic\"\n",
    "plt.bar(list(values[:10]),counts[:10],tick_label=list(values[:10]))\n",
    "plt.show()"
   ]
  },
  {
   "cell_type": "markdown",
   "metadata": {},
   "source": [
    "## 38. ヒストグラム"
   ]
  },
  {
   "cell_type": "markdown",
   "metadata": {},
   "source": [
    "単語の出現頻度のヒストグラムを描け．ただし，横軸は出現頻度を表し，1から単語の出現頻度の最大値までの線形目盛とする．縦軸はx軸で示される出現頻度となった単語の異なり数（種類数）である．"
   ]
  },
  {
   "cell_type": "code",
   "execution_count": 11,
   "metadata": {},
   "outputs": [
    {
     "data": {
      "image/png": "[encoded data removed]",
      "text/plain": [
       "<Figure size 432x288 with 1 Axes>"
      ]
     },
     "metadata": {
      "needs_background": "light"
     },
     "output_type": "display_data"
    },
    {
     "data": {
      "image/png": "[encoded data removed]",
      "text/plain": [
       "<Figure size 432x288 with 1 Axes>"
      ]
     },
     "metadata": {
      "needs_background": "light"
     },
     "output_type": "display_data"
    }
   ],
   "source": [
    "import collections  \n",
    "#counts_of_countには,values_of_count\n",
    "List_for_sentense=[]\n",
    "for sentencedata in mecab_print(7486):\n",
    "    for dic in sentencedata:\n",
    "        List_for_sentense.append(dic[\"surface\"]) \n",
    "        \n",
    "c=collections.Counter(List_for_sentense)  #リストの出現回数ごとに新たな辞書を生成\n",
    "dictionary=c.most_common()\n",
    "values,counts=zip(*dictionary)\n",
    "\n",
    "countList=collections.Counter(counts)#出現頻度と単語の種類のリストを作る#\n",
    "dictionary_of_count=countList.most_common()\n",
    "values_of_count,type_of_words=zip(*dictionary_of_count)\n",
    "\n",
    "\n",
    "plt.bar(list(values_of_count[:100]),list(type_of_words[:100]))#見にくい#\n",
    "plt.show()\n",
    "\n",
    "plt.bar(list(values_of_count[:25]),list(type_of_words[:25]),align=\"edge\")\n",
    "plt.xlim(1,25)\n",
    "plt.xlabel(\"count\")\n",
    "plt.ylabel(\"type of words\")\n",
    "plt.grid(True)\n",
    "plt.show()"
   ]
  },
  {
   "cell_type": "markdown",
   "metadata": {},
   "source": [
    "## 39. Zipfの法則"
   ]
  },
  {
   "cell_type": "markdown",
   "metadata": {},
   "source": [
    "単語の出現頻度順位を横軸，その出現頻度を縦軸として，両対数グラフをプロットせよ．"
   ]
  },
  {
   "cell_type": "code",
   "execution_count": 12,
   "metadata": {},
   "outputs": [
    {
     "data": {
      "image/png": "[encoded data removed]",
      "text/plain": [
       "<Figure size 432x288 with 1 Axes>"
      ]
     },
     "metadata": {
      "needs_background": "light"
     },
     "output_type": "display_data"
    }
   ],
   "source": [
    "#dictionary ('の', 9194), ('。', 7486)みたいに入ってる\n",
    "List_for_zips_rank=[]\n",
    "List_for_zips_count=[]\n",
    "#print(counts)\n",
    "for i,data in enumerate(counts):\n",
    "    List_for_zips_count.append(data)\n",
    "    if i>0 and counts[i-1]==data:\n",
    "        List_for_zips_rank.append(List_for_zips_rank[-1])\n",
    "    else:\n",
    "        List_for_zips_rank.append(i+1)\n",
    "\n",
    "        \n",
    "plt.scatter(List_for_zips_rank,List_for_zips_count)\n",
    "plt.xscale('log')\n",
    "plt.yscale('log')\n",
    "plt.xlabel('rank')\n",
    "plt.ylabel('count')\n",
    "plt.show()\n",
    "#print(List_for_zips_count)\n",
    "#print(List_for_zips_rank)\n",
    "    "
   ]
  }
 ],
 "metadata": {
  "kernelspec": {
   "display_name": "Python 3",
   "language": "python",
   "name": "python3"
  },
  "language_info": {
   "codemirror_mode": {
    "name": "ipython",
    "version": 3
   },
   "file_extension": ".py",
   "mimetype": "text/x-python",
   "name": "python",
   "nbconvert_exporter": "python",
   "pygments_lexer": "ipython3",
   "version": "3.7.3"
  }
 },
 "nbformat": 4,
 "nbformat_minor": 2
}

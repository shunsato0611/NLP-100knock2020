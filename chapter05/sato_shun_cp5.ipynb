{
 "cells": [
  {
   "cell_type": "code",
   "execution_count": 2,
   "metadata": {},
   "outputs": [],
   "source": [
    "!cabocha -f1 data/ai/ai.ja.txt > work/ai.ja.txt.parsed"
   ]
  },
  {
   "cell_type": "code",
   "execution_count": 3,
   "metadata": {},
   "outputs": [
    {
     "name": "stdout",
     "output_type": "stream",
     "text": [
      "* 0 -1D 1/1 0.000000\n",
      "人工\t名詞,一般,*,*,*,*,人工,ジンコウ,ジンコー\n",
      "知能\t名詞,一般,*,*,*,*,知能,チノウ,チノー\n",
      "EOS\n",
      "EOS\n",
      "* 0 17D 1/1 0.388993\n",
      "人工\t名詞,一般,*,*,*,*,人工,ジンコウ,ジンコー\n",
      "知能\t名詞,一般,*,*,*,*,知能,チノウ,チノー\n",
      "* 1 17D 2/3 0.613549\n"
     ]
    }
   ],
   "source": [
    "!head -9 work/ai.ja.txt.parsed"
   ]
  },
  {
   "cell_type": "markdown",
   "metadata": {},
   "source": [
    "## 40. 係り受け解析結果の読み込み（形態素）"
   ]
  },
  {
   "cell_type": "markdown",
   "metadata": {},
   "source": [
    "形態素を表すクラスMorphを実装せよ．このクラスは表層形（surface），基本形（base），品詞（pos），品詞細分類1（pos1）をメンバ変数に持つこととする．さらに，係り受け解析の結果（ai.ja.txt.parsed）を読み込み，各文をMorphオブジェクトのリストとして表現し，冒頭の説明文の形態素列を表示せよ．"
   ]
  },
  {
   "cell_type": "code",
   "execution_count": 63,
   "metadata": {},
   "outputs": [
    {
     "name": "stdout",
     "output_type": "stream",
     "text": [
      "[(人工, 名詞, 一般, 人工), (知能, 名詞, 一般, 知能), (（, 記号, 括弧開, （), (じん, 名詞, 一般, じん), (こうち, 名詞, 一般, こうち), (のう, 助詞, 終助詞, のう), (、, 記号, 読点, 、), (、, 記号, 読点, 、), (AI, 名詞, 一般, *), (〈, 記号, 括弧開, 〈), (エーアイ, 名詞, 固有名詞, *), (〉, 記号, 括弧閉, 〉), (）, 記号, 括弧閉, ）), (と, 助詞, 格助詞, と), (は, 助詞, 係助詞, は), (、, 記号, 読点, 、), (「, 記号, 括弧開, 「), (『, 記号, 括弧開, 『), (計算, 名詞, サ変接続, 計算), (（, 記号, 括弧開, （), (）, 記号, 括弧閉, ）), (』, 記号, 括弧閉, 』), (という, 助詞, 格助詞, という), (概念, 名詞, 一般, 概念), (と, 助詞, 並立助詞, と), (『, 記号, 括弧開, 『), (コンピュータ, 名詞, 一般, コンピュータ), (（, 記号, 括弧開, （), (）, 記号, 括弧閉, ）), (』, 記号, 括弧閉, 』), (という, 助詞, 格助詞, という), (道具, 名詞, 一般, 道具), (を, 助詞, 格助詞, を), (用い, 動詞, 自立, 用いる), (て, 助詞, 接続助詞, て), (『, 記号, 括弧開, 『), (知能, 名詞, 一般, 知能), (』, 記号, 括弧閉, 』), (を, 助詞, 格助詞, を), (研究, 名詞, サ変接続, 研究), (する, 動詞, 自立, する), (計算, 名詞, サ変接続, 計算), (機, 名詞, 接尾, 機), (科学, 名詞, 一般, 科学), (（, 記号, 括弧開, （), (）, 記号, 括弧閉, ）), (の, 助詞, 連体化, の), (一, 名詞, 数, 一), (分野, 名詞, 一般, 分野), (」, 記号, 括弧閉, 」), (を, 助詞, 格助詞, を), (指す, 動詞, 自立, 指す), (語, 名詞, 一般, 語), (。, 記号, 句点, 。), (「, 記号, 括弧開, 「), (言語, 名詞, 一般, 言語), (の, 助詞, 連体化, の), (理解, 名詞, サ変接続, 理解), (や, 助詞, 並立助詞, や), (推論, 名詞, サ変接続, 推論), (、, 記号, 読点, 、), (問題, 名詞, ナイ形容詞語幹, 問題), (解決, 名詞, サ変接続, 解決), (など, 助詞, 副助詞, など), (の, 助詞, 連体化, の), (知的, 名詞, 一般, 知的), (行動, 名詞, サ変接続, 行動), (を, 助詞, 格助詞, を), (人間, 名詞, 一般, 人間), (に, 助詞, 格助詞, に), (代わっ, 動詞, 自立, 代わる), (て, 助詞, 接続助詞, て), (コンピューター, 名詞, 一般, コンピューター), (に, 助詞, 格助詞, に), (行わ, 動詞, 自立, 行う), (せる, 動詞, 接尾, せる), (技術, 名詞, 一般, 技術), (」, 記号, 括弧閉, 」), (、, 記号, 読点, 、), (または, 接続詞, *, または), (、, 記号, 読点, 、), (「, 記号, 括弧開, 「), (計算, 名詞, サ変接続, 計算), (機, 名詞, 接尾, 機), (（, 記号, 括弧開, （), (コンピュータ, 名詞, 一般, コンピュータ), (）, 記号, 括弧閉, ）), (による, 助詞, 格助詞, による), (知的, 名詞, 形容動詞語幹, 知的), (な, 助動詞, *, だ), (情報処理, 名詞, 一般, 情報処理), (システム, 名詞, 一般, システム), (の, 助詞, 連体化, の), (設計, 名詞, サ変接続, 設計), (や, 助詞, 並立助詞, や), (実現, 名詞, サ変接続, 実現), (に関する, 助詞, 格助詞, に関する), (研究, 名詞, サ変接続, 研究), (分野, 名詞, 一般, 分野), (」, 記号, 括弧閉, 」), (と, 助詞, 格助詞, と), (も, 助詞, 係助詞, も), (さ, 動詞, 自立, する), (れる, 動詞, 接尾, れる), (。, 記号, 句点, 。)]\n"
     ]
    }
   ],
   "source": [
    "import os\n",
    "from itertools import groupby\n",
    "from string import printable\n",
    "\n",
    "class Morph:\n",
    "    def __init__(self,line):\n",
    "        self.surface, temp = line.rstrip().split('\\t')\n",
    "        inf = temp.split(',')\n",
    "        self.pos = inf[0]\n",
    "        self.pos1 = inf[1]\n",
    "        self.base = inf[6]\n",
    "        \n",
    "    #クラスメソッドはクラスでインスタンスにしなくても使える 第1引数はselfではなくclsになる\n",
    "    @classmethod \n",
    "    def load_cabocha(cls, fi):\n",
    "        for is_eos, sentence in groupby(fi, key=lambda x: x == 'EOS\\n'):\n",
    "            #EOS\\nで区切ってくれる\n",
    "            if not is_eos:\n",
    "                #かかり受けの情報とかを除去\n",
    "                yield [cls(line) for line in sentence if not line.startswith('* ')]\n",
    "    \n",
    "        \n",
    "    def __repr__(self):\n",
    "        return '({})'.format(', '.join((self.surface, self.pos, self.pos1,self.base)))\n",
    "                \n",
    "\n",
    "data_path = os.path.join(\"work\",\"ai.ja.txt.parsed\")\n",
    "\n",
    "with open(data_path) as f:\n",
    "    for i, sent in enumerate(Morph.load_cabocha(f)):\n",
    "        if i==1:\n",
    "            print(repr(sent))\n"
   ]
  },
  {
   "cell_type": "markdown",
   "metadata": {},
   "source": [
    "## 41. 係り受け解析結果の読み込み（文節・係り受け）"
   ]
  },
  {
   "cell_type": "markdown",
   "metadata": {},
   "source": [
    "40に加えて，文節を表すクラスChunkを実装せよ．このクラスは形態素（Morphオブジェクト）のリスト（morphs），係り先文節インデックス番号（dst），係り元文節インデックス番号のリスト（srcs）をメンバ変数に持つこととする．さらに，入力テキストの係り受け解析結果を読み込み，１文をChunkオブジェクトのリストとして表現し，冒頭の説明文の文節の文字列と係り先を表示せよ．本章の残りの問題では，ここで作ったプログラムを活用せよ．"
   ]
  },
  {
   "cell_type": "code",
   "execution_count": 147,
   "metadata": {},
   "outputs": [
    {
     "name": "stdout",
     "output_type": "stream",
     "text": [
      "0:『日本大百科全書(ニッポニカ)』の => 1\n",
      "1:解説で、 => 5\n",
      "2:情報工学者・通信工学者の => 3\n",
      "3:佐藤理史は => 5\n",
      "4:次のように => 5\n",
      "5:述べている。 => -1\n"
     ]
    }
   ],
   "source": [
    "#表示の際に表層形を出すように上書き\n",
    "class Morph(Morph):\n",
    "    def __repr__(self):\n",
    "        return (self.surface)\n",
    "\n",
    "class Chunk:\n",
    "    def __init__(self, line):\n",
    "        info = line.rstrip().split()\n",
    "        self.idx = int(info[1])#文内の文節番号\n",
    "        self.dst = int(info[2].rstrip(\"D\")) ##かかり先\n",
    "        self.morphs = []\n",
    "        self.srcs = []\n",
    "        \n",
    "    def srcs_append(self, src_idx):\n",
    "        \"\"\"係り元文節インデックスを追加\"\"\"\n",
    "        self.srcs.append(src_idx)\n",
    "        \n",
    "    def morphs_append(self, line):\n",
    "        \"\"\"形態素を追加\"\"\"\n",
    "        self.morphs.append(Morph(line))\n",
    "    \n",
    "    def __str__(self):\n",
    "        return ''.join([morph.surface for morph in self.morphs])\n",
    "        \n",
    "    def __repr__(self):\n",
    "        return '({}, dst:{})'.format(self.morphs, self.dst)\n",
    "#         \n",
    "\n",
    "class Sentence:\n",
    "    def __init__(self, sent_lines):\n",
    "        self.chunks = []\n",
    "        \n",
    "        ##ここでとりあえず全ての文節を取り込む\n",
    "        for line in sent_lines:  \n",
    "            if line.startswith('* '):\n",
    "                self.chunks.append(Chunk(line))\n",
    "            else:\n",
    "                #作成済みのchunkクラスに文節を入れる\n",
    "                self.chunks[-1].morphs_append(line)\n",
    " \n",
    "        #かかりもとのidを結ぶ\n",
    "        for chunk in self.chunks:\n",
    "            if chunk.dst != -1:\n",
    "                self.chunks[chunk.dst].srcs_append(chunk.idx)\n",
    "    \n",
    "\n",
    "    @classmethod\n",
    "    def load_cabocha(cls, fi):\n",
    "        \"\"\"cabocha lattice formatファイルからSentenceインスタンスを生成\"\"\"\n",
    "        for is_eos, sentence in groupby(fi, key=lambda x: x == 'EOS\\n'):\n",
    "            if not is_eos:\n",
    "                yield cls(sentence)\n",
    "                \n",
    "    def print_dep_idx(self):\n",
    "        \"\"\"係り元文節インデックスと係り先文節インデックスを表示\"\"\"\n",
    "        for chunk in self.chunks:\n",
    "            print('{}:{} => {}'.format(chunk.idx, chunk, chunk.dst))\n",
    "                \n",
    "                \n",
    "data_path = os.path.join(\"work\",\"ai.ja.txt.parsed\")\n",
    "\n",
    "with open(data_path) as f:\n",
    "    for i, sent in enumerate(Sentence.load_cabocha(f)):\n",
    "        if i==2:\n",
    "            sent.print_dep_idx()\n",
    "            break"
   ]
  },
  {
   "cell_type": "markdown",
   "metadata": {},
   "source": [
    "## 42. 係り元と係り先の文節の表示\n"
   ]
  },
  {
   "cell_type": "markdown",
   "metadata": {},
   "source": [
    "係り元の文節と係り先の文節のテキストをタブ区切り形式ですべて抽出せよ．ただし，句読点などの記号は出力しないようにせよ．"
   ]
  },
  {
   "cell_type": "code",
   "execution_count": 148,
   "metadata": {},
   "outputs": [
    {
     "name": "stdout",
     "output_type": "stream",
     "text": [
      "日本大百科全書(ニッポニカ)』の\t解説で\n",
      "解説で\t述べている\n",
      "情報工学者通信工学者の\t佐藤理史は\n",
      "佐藤理史は\t述べている\n",
      "次のように\t述べている\n",
      "None\n"
     ]
    }
   ],
   "source": [
    "#クラスとチャンクに以下の２つの機能を追加\n",
    "class Chunk(Chunk):\n",
    "    def chunk2str(self):\n",
    "        \"\"\"記号を取り除いた文節の表層形を返す\"\"\"\n",
    "        return ''.join([morph.surface for morph in self.morphs if morph.pos != '記号'])\n",
    "    \n",
    "\n",
    "class Sentence(Sentence):\n",
    "    def print_dep(self):\n",
    "        \"\"\"係り元文節と係り先文節の表層をタブ区切りで表示\"\"\"\n",
    "        for chunk in self.chunks:\n",
    "            if chunk.dst != -1:\n",
    "                print('{}\\t{}'.format(chunk.chunk2str(), self.chunks[chunk.dst].chunk2str()))\n",
    "    \n",
    "\n",
    "data_path = os.path.join(\"work\",\"ai.ja.txt.parsed\")\n",
    "with open(data_path) as f:\n",
    "    for i, sent in enumerate(Sentence.load_cabocha(f)):\n",
    "        if i==2:\n",
    "            print(sent.print_dep())\n",
    "            break"
   ]
  },
  {
   "cell_type": "markdown",
   "metadata": {},
   "source": [
    "## 43. 名詞を含む文節が動詞を含む文節に係るものを抽出"
   ]
  },
  {
   "cell_type": "markdown",
   "metadata": {},
   "source": [
    "名詞を含む文節が，動詞を含む文節に係るとき，これらをタブ区切り形式で抽出せよ．ただし，句読点などの記号は出力しないようにせよ．"
   ]
  },
  {
   "cell_type": "code",
   "execution_count": 149,
   "metadata": {},
   "outputs": [
    {
     "name": "stdout",
     "output_type": "stream",
     "text": [
      "解説で\t述べている\n",
      "佐藤理史は\t述べている\n",
      "次のように\t述べている\n",
      "None\n"
     ]
    }
   ],
   "source": [
    "#クラスとチャンクに以下の２つの機能を追加\n",
    "class Chunk(Chunk):\n",
    "    def contain_pos(self, pos):\n",
    "        \"\"\"文節中にある品詞が存在するかどうかを返す\"\"\"\n",
    "        return pos in (morph.pos for morph in self.morphs)\n",
    "    \n",
    "\n",
    "class Sentence(Sentence):\n",
    "    def print_noun_verb_dep(self):\n",
    "        \"\"\"名詞を含む文節が動詞を含む文節に係るものを抽出\"\"\"\n",
    "        for chunk in self.chunks:\n",
    "            if chunk.contain_pos('名詞') and self.chunks[chunk.dst].contain_pos('動詞'):\n",
    "                print('{}\\t{}'.format(chunk.chunk2str(), self.chunks[chunk.dst].chunk2str()))\n",
    "\n",
    "with open(data_path) as f:\n",
    "    for i, sent in enumerate(Sentence.load_cabocha(f)):\n",
    "        if i==2:\n",
    "            print(sent.print_noun_verb_dep())\n",
    "            break\n",
    "            "
   ]
  },
  {
   "cell_type": "markdown",
   "metadata": {},
   "source": [
    "## 44. 係り受け木の可視化"
   ]
  },
  {
   "cell_type": "markdown",
   "metadata": {},
   "source": [
    "与えられた文の係り受け木を有向グラフとして可視化せよ．可視化には，Graphviz等を用いるとよい．"
   ]
  },
  {
   "cell_type": "code",
   "execution_count": 150,
   "metadata": {},
   "outputs": [],
   "source": [
    "import pydot\n",
    "\n",
    "class Sentence(Sentence):\n",
    "    def dep_edge(self):\n",
    "        \"\"\"pydotで係り受けを出力する用\"\"\"\n",
    "        return [(chunk.chunk2str(), self.chunks[chunk.dst].chunk2str())\n",
    "                    for chunk in self.chunks if chunk.dst != -1]\n",
    "    \n",
    "with open(data_path) as f:\n",
    "    for i, sent in enumerate(Sentence.load_cabocha(f)):\n",
    "        if i==2:\n",
    "            edges = sent.dep_edge()\n",
    "            n = pydot.Node('node')\n",
    "            graph = pydot.graph_from_edges(edges, directed=True)\n",
    "            graph.add_node(n)\n",
    "            graph.write_jpeg(\"dep_tree_AI{}.jpg\".format(i))\n",
    "            break    \n"
   ]
  },
  {
   "cell_type": "code",
   "execution_count": 151,
   "metadata": {},
   "outputs": [
    {
     "data": {
      "image/jpeg": "[encoded data removed]",
      "text/plain": [
       "<IPython.core.display.Image object>"
      ]
     },
     "execution_count": 151,
     "metadata": {},
     "output_type": "execute_result"
    }
   ],
   "source": [
    "from IPython.display import Image\n",
    "Image(\"dep_tree_AI2.jpg\")"
   ]
  },
  {
   "cell_type": "markdown",
   "metadata": {},
   "source": [
    "## 45. 動詞の格パターンの抽出"
   ]
  },
  {
   "cell_type": "markdown",
   "metadata": {},
   "source": [
    "今回用いている文章をコーパスと見なし，日本語の述語が取りうる格を調査したい． 動詞を述語，動詞に係っている文節の助詞を格と考え，述語と格をタブ区切り形式で出力せよ． ただし，出力は以下の仕様を満たすようにせよ．\n",
    "\n",
    "動詞を含む文節において，最左の動詞の基本形を述語とする\n",
    "述語に係る助詞を格とする\n",
    "述語に係る助詞（文節）が複数あるときは，すべての助詞をスペース区切りで辞書順に並べる\n",
    "「ジョン・マッカーシーはAIに関する最初の会議で人工知能という用語を作り出した。」という例文を考える． この文は「作り出す」という１つの動詞を含み，「作り出す」に係る文節は「ジョン・マッカーシーは」，「会議で」，「用語を」であると解析された場合は，次のような出力になるはずである．"
   ]
  },
  {
   "cell_type": "code",
   "execution_count": 152,
   "metadata": {},
   "outputs": [
    {
     "name": "stdout",
     "output_type": "stream",
     "text": [
      "なる\tに\n",
      "出る\tが と に関して\n",
      "作り出す\tで は を\n",
      "する\tは を\n",
      "ふるまう\t\n",
      "する\tを\n",
      "する\tとして は を\n",
      "する\tを\n",
      "行う\tを\n"
     ]
    }
   ],
   "source": [
    "path_write = os.path.join(\"work\",\"kakuframe_ai.txt\")\n",
    "with open(data_path) as f,open(path_write,\"w\") as g: \n",
    "    for i, sent in enumerate(Sentence.load_cabocha(f)):\n",
    "            for chunk in sent.chunks:\n",
    "                for morph in chunk.morphs:\n",
    "                    if morph.pos == '動詞':\n",
    "                        verb = morph.base\n",
    "                        particles = [] # 助詞のリスト\n",
    "                        for src in chunk.srcs:\n",
    "                        # 分節内で一番右の助詞を追加していく\n",
    "                            particles.extend([word.base for word in sent.chunks[src].morphs \n",
    "                                                 if word.pos == '助詞'][-1:])\n",
    "                        particles.sort()\n",
    "                        if i==13:\n",
    "                            print('{}\\t{}'.format(verb, ' '.join(particles)))\n",
    "                        g.write('{}\\t{}\\n'.format(verb, ' '.join(particles)))\n",
    "                        break"
   ]
  },
  {
   "cell_type": "code",
   "execution_count": 153,
   "metadata": {},
   "outputs": [
    {
     "name": "stdout",
     "output_type": "stream",
     "text": [
      "用いる\tを\n",
      "する\tて を\n",
      "指す\tを\n",
      "代わる\tに を\n",
      "行う\tて に\n",
      "する\tも\n",
      "述べる\tで に は\n",
      "する\tで を\n",
      "する\tを\n",
      "する\tを\n"
     ]
    }
   ],
   "source": [
    "!head -10  work/kakuframe_ai.txt"
   ]
  },
  {
   "cell_type": "code",
   "execution_count": 154,
   "metadata": {},
   "outputs": [
    {
     "name": "stdout",
     "output_type": "stream",
     "text": [
      "  51 する\tを\n",
      "  18 する\tと\n",
      "  18 する\tが\n",
      "  16 する\tに\n",
      "  13 する\tは を\n",
      "  10 する\tに を\n",
      "   9 する\tで を\n",
      "   8 する\t\n",
      "   7 する\tと は\n",
      "   7 する\tが に\n"
     ]
    }
   ],
   "source": [
    "! grep -E \"^(する|なる|与える)\\t\" work/kakuframe_ai.txt| sort | uniq -c | sort -nr | head -10"
   ]
  },
  {
   "cell_type": "markdown",
   "metadata": {},
   "source": [
    "## 46. 動詞の格フレーム情報の抽出"
   ]
  },
  {
   "cell_type": "markdown",
   "metadata": {},
   "source": [
    "45のプログラムを改変し，述語と格パターンに続けて項（述語に係っている文節そのもの）をタブ区切り形式で出力せよ．45の仕様に加えて，以下の仕様を満たすようにせよ．\n",
    "\n",
    "項は述語に係っている文節の単語列とする（末尾の助詞を取り除く必要はない）\n",
    "述語に係る文節が複数あるときは，助詞と同一の基準・順序でスペース区切りで並べる\n",
    "「ジョン・マッカーシーはAIに関する最初の会議で人工知能という用語を作り出した。」という例文を考える． この文は「作り出す」という１つの動詞を含み，「作り出す」に係る文節は「ジョン・マッカーシーは」，「会議で」，「用語を」であると解析された場合は，次のような出力になるはずである"
   ]
  },
  {
   "cell_type": "code",
   "execution_count": 155,
   "metadata": {},
   "outputs": [
    {
     "name": "stdout",
     "output_type": "stream",
     "text": [
      "なる\tに\t1950年代に\n",
      "出る\tが と に関して\t成果が なると AIに関して\n",
      "作り出す\tで は を\t会議で ジョンマッカーシーは 用語を\n",
      "する\tは を\t彼はまた プログラミング言語を\n",
      "ふるまう\t\t\n",
      "する\tを\tテストを\n",
      "する\tとして は を\t方法として アランチューリングは チューリングテストを\n",
      "する\tを\tジョセフ・ワイゼンバウムはを\n",
      "行う\tを\t来談者中心療法を\n"
     ]
    }
   ],
   "source": [
    "with open(data_path) as f,open(path_write,\"w\") as g: \n",
    "    for i, sent in enumerate(Sentence.load_cabocha(f)):\n",
    "        if i==13:\n",
    "            for chunk in sent.chunks:\n",
    "                for morph in chunk.morphs:\n",
    "                    if morph.pos == '動詞':\n",
    "                        verb = morph.base\n",
    "                        particle_chunks = []\n",
    "                        for src in chunk.srcs:\n",
    "                            # (助詞, 係り元の分節の表層)\n",
    "                            particle_chunks.extend([(word.base, sent.chunks[src].chunk2str()) \n",
    "                                                    for word in sent.chunks[src].morphs if word.pos == '助詞'][-1:])\n",
    "                        if particle_chunks:\n",
    "                            particle_chunks.sort()\n",
    "                            particles, chunks = zip(*particle_chunks)\n",
    "                        else:\n",
    "                            particles, chunks = [], []\n",
    "\n",
    "                        print('{}\\t{}\\t{}'.format(verb, ' '.join(particles), ' '.join(chunks)))\n",
    "                        break\n"
   ]
  },
  {
   "cell_type": "markdown",
   "metadata": {},
   "source": [
    "## 47. 機能動詞構文のマイニング"
   ]
  },
  {
   "cell_type": "markdown",
   "metadata": {},
   "source": [
    "動詞のヲ格にサ変接続名詞が入っている場合のみに着目したい．46のプログラムを以下の仕様を満たすように改変せよ．\n",
    "\n",
    "「サ変接続名詞+を（助詞）」で構成される文節が動詞に係る場合のみを対象とする\n",
    "述語は「サ変接続名詞+を+動詞の基本形」とし，文節中に複数の動詞があるときは，最左の動詞を用いる\n",
    "述語に係る助詞（文節）が複数あるときは，すべての助詞をスペース区切りで辞書順に並べる\n",
    "述語に係る文節が複数ある場合は，すべての項をスペース区切りで並べる（助詞の並び順と揃えよ）\n",
    "例えば「また、自らの経験を元に学習を行う強化学習という手法もある。」という文から，以下の出力が得られるはずである．"
   ]
  },
  {
   "cell_type": "code",
   "execution_count": 156,
   "metadata": {},
   "outputs": [
    {
     "name": "stdout",
     "output_type": "stream",
     "text": [
      "処理を用いる\t\t\n",
      "注目を集める\tが\tサポートベクターマシンが\n",
      "学習を行う\tに を\t元に 経験を\n",
      "流行を超える\t\t\n",
      "学習を繰り返す\t\t\n",
      "進化を見せる\tて て において は\t加えて 活躍している 生成技術において 敵対的生成ネットワークは\n",
      "生成を行う\t\t\n",
      "開発を行う\tは\tエイダ・ラブレスは\n",
      "処理を行う\t\t\n",
      "処理を行う\tに に により\tWebに 同年に ティム・バーナーズリーにより\n",
      "処理を行う\tて に\t付加して コンピュータに\n",
      "研究を進める\tて\t費やして\n",
      "注目を集める\tから は\tことから ファジィは\n",
      "成功を受ける\t\t\n",
      "制御を用いる\tて も\t受けて 他社も\n",
      "進歩を担う\t\t\n",
      "改善を果たす\tが で に\tチームが 画像処理コンテストで 2012年に\n",
      "研究を続ける\tが て\tジェフホーキンスが 向けて\n",
      "注目を集める\tに\t急速に\n",
      "普及を受ける\t\t\n",
      "学習を組み合わせる\t\t\n",
      "投資を行う\tで に\t民間企業主導で 全世界的に\n",
      "探索を行う\tで\t無報酬で\n",
      "研究を行う\tて\t始めており\n",
      "実験をする\t\t\n",
      "投資をする\tに は\t2022年までに 韓国は\n",
      "シミュレーションを行う\t\t\n",
      "反乱を起こす\tて に対して\t於いて 人間に対して\n",
      "弾圧を併せ持つ\t\t\n",
      "手続きを経る\tを\tウイグル族を\n",
      "差別を認める\t\t\n",
      "展開を変える\t\t\n",
      "判断を介す\tから\t観点から\n",
      "禁止を求める\tが は\tヒューマン・ライツ・ウォッチが 4月には\n",
      "運用をめぐる\t\t\n",
      "試験を行う\t\t\n",
      "追及を受ける\tて で と とともに は\t暴露されており 整合性で 拒否すると とともに 公聴会では\n",
      "存在を見いだす\tに\tものに\n",
      "話をする\tは\t哲学者は\n",
      "勘違いをする\t\t\n",
      "議論を行う\tまで\tこれまで\n"
     ]
    }
   ],
   "source": [
    "with open(data_path) as f,open(path_write,\"w\") as g: \n",
    "    for i, sent in enumerate(Sentence.load_cabocha(f)):\n",
    "        sahen_flag = 0\n",
    "        for chunk in sent.chunks:\n",
    "            for morph in chunk.morphs:\n",
    "                if sahen_flag == 0 and morph.pos1 == 'サ変接続':\n",
    "                    sahen_flag = 1\n",
    "                    sahen = morph.surface\n",
    "                elif sahen_flag == 1 and morph.base == 'を' and morph.pos == '助詞':\n",
    "                    sahen_flag = 2\n",
    "                elif sahen_flag == 2 and morph.pos == '動詞':\n",
    "                    sahen_wo = sahen + 'を'\n",
    "                    verb = morph.base\n",
    "                    particle_chunks = []\n",
    "                    for src in chunk.srcs:\n",
    "                        # (助詞, 係り元の分節の表層)\n",
    "                        particle_chunks.extend([(word.base, sent.chunks[src].chunk2str()) \n",
    "                                                for word in sent.chunks[src].morphs if word.pos == '助詞'][-1:])\n",
    "                    for j, part_chunk in enumerate(particle_chunks[:]):\n",
    "                        if sahen_wo in part_chunk[1]:\n",
    "                            del particle_chunks[j]\n",
    "\n",
    "                    if particle_chunks:\n",
    "                        particle_chunks.sort()\n",
    "                        particles, chunks = zip(*particle_chunks)\n",
    "                    else:\n",
    "                        particles, chunks = [], []\n",
    "\n",
    "                    print('{}\\t{}\\t{}'.format(sahen_wo + verb, ' '.join(particles), ' '.join(chunks)))\n",
    "                    sahen_flag = 0\n",
    "                    break\n",
    "                else:\n",
    "                    sahen_flag = 0\n"
   ]
  },
  {
   "cell_type": "markdown",
   "metadata": {},
   "source": [
    "## 48. 名詞から根へのパスの抽出"
   ]
  },
  {
   "cell_type": "markdown",
   "metadata": {},
   "source": [
    "文中のすべての名詞を含む文節に対し，その文節から構文木の根に至るパスを抽出せよ． ただし，構文木上のパスは以下の仕様を満たすものとする．\n",
    "\n",
    "各文節は（表層形の）形態素列で表現する\n",
    "パスの開始文節から終了文節に至るまで，各文節の表現を” -> “で連結する\n",
    "「ジョン・マッカーシーはAIに関する最初の会議で人工知能という用語を作り出した。」という例文を考える． CaboChaを係り受け解析に用いた場合，次のような出力が得られると思われる．"
   ]
  },
  {
   "cell_type": "code",
   "execution_count": 157,
   "metadata": {},
   "outputs": [
    {
     "name": "stdout",
     "output_type": "stream",
     "text": [
      "日本大百科全書(ニッポニカ)』の -> 解説で -> 述べている\n",
      "解説で -> 述べている\n",
      "情報工学者通信工学者の -> 佐藤理史は -> 述べている\n",
      "佐藤理史は -> 述べている\n",
      "次のように -> 述べている\n"
     ]
    }
   ],
   "source": [
    "class Sentence(Sentence):\n",
    "     def trace_dep_path_from(self, chunk):\n",
    "        \"\"\"chunkからrootまでの係り受けパスを追跡\"\"\"\n",
    "        path = []\n",
    "        ph_append = path.append\n",
    "        ph_append(chunk)\n",
    "        d = chunk.dst\n",
    "        while d != -1:\n",
    "            ph_append(self.chunks[d])\n",
    "            d = self.chunks[d].dst\n",
    "\n",
    "        yield path\n",
    "\n",
    "with open(data_path) as f:\n",
    "    for i, sent in enumerate(Sentence.load_cabocha(f), start=1):\n",
    "        if i == 3:\n",
    "            for chunk in sent.chunks:\n",
    "                if chunk.contain_pos('名詞'):\n",
    "                    for path in sent.trace_dep_path_from(chunk):\n",
    "                        for i ,item in enumerate(path):\n",
    "                            print(item.chunk2str(),end='')\n",
    "                            if i!=len(path)-1:\n",
    "                                print(' -> ',end='')\n",
    "                        print()\n",
    "            break\n"
   ]
  },
  {
   "cell_type": "markdown",
   "metadata": {},
   "source": [
    "## 49. 名詞間の係り受けパスの抽出"
   ]
  },
  {
   "cell_type": "markdown",
   "metadata": {},
   "source": [
    "文中のすべての名詞句のペアを結ぶ最短係り受けパスを抽出せよ．ただし，名詞句ペアの文節番号がi\n",
    "とj\n",
    "（i<j\n",
    "）のとき，係り受けパスは以下の仕様を満たすものとする．\n",
    "\n",
    "問題48と同様に，パスは開始文節から終了文節に至るまでの各文節の表現（表層形の形態素列）を” -> “で連結して表現する\n",
    "文節i\n",
    "とj\n",
    "に含まれる名詞句はそれぞれ，XとYに置換する\n",
    "また，係り受けパスの形状は，以下の2通りが考えられる．\n",
    "\n",
    "文節i\n",
    "から構文木の根に至る経路上に文節j\n",
    "が存在する場合: 文節i\n",
    "から文節j\n",
    "のパスを表示\n",
    "上記以外で，文節i\n",
    "と文節j\n",
    "から構文木の根に至る経路上で共通の文節k\n",
    "で交わる場合: 文節i\n",
    "から文節k\n",
    "に至る直前のパスと文節j\n",
    "から文節k\n",
    "に至る直前までのパス，文節k\n",
    "の内容を” | “で連結して表示\n",
    "「ジョン・マッカーシーはAIに関する最初の会議で人工知能という用語を作り出した。」という例文を考える． CaboChaを係り受け解析に用いた場合，次のような出力が得られると思われる．"
   ]
  },
  {
   "cell_type": "code",
   "execution_count": 172,
   "metadata": {},
   "outputs": [
    {
     "name": "stdout",
     "output_type": "stream",
     "text": [
      "日本大百科全書(ニッポニカ)』の解説で述べている\n",
      "日本大百科全書(ニッポニカ)』の解説で述べている\n",
      "日本大百科全書(ニッポニカ)』の解説で述べている\n",
      "日本大百科全書(ニッポニカ)』の解説で述べている\n",
      "解説で述べている\n",
      "解説で述べている\n",
      "解説で述べている\n",
      "情報工学者通信工学者の佐藤理史は述べている\n",
      "情報工学者通信工学者の佐藤理史は述べている\n",
      "佐藤理史は述べている\n"
     ]
    }
   ],
   "source": [
    "from itertools import combinations\n",
    "with open(data_path) as f:\n",
    "    for i, sent in enumerate(Sentence.load_cabocha(f), start=1):\n",
    "        if i == 3:\n",
    "            for chunk1, chunk2 in combinations(sent.chunks, 2):\n",
    "                if not (chunk1.contain_pos('名詞') and chunk2.contain_pos('名詞')):\n",
    "                    continue\n",
    "                dep1 = sent.trace_dep_path_from(chunk1)\n",
    "                \n",
    "                for i,data in enumerate(dep1):\n",
    "                    for item in data:\n",
    "                        if i!=0:\n",
    "                            print(' -> ',end='')\n",
    "                        print(item.chunk2str(),end='')\n",
    "                        \n",
    "                    print()\n",
    "            break\n",
    "\n",
    "\n"
   ]
  },
  {
   "cell_type": "code",
   "execution_count": null,
   "metadata": {},
   "outputs": [],
   "source": []
  },
  {
   "cell_type": "code",
   "execution_count": null,
   "metadata": {},
   "outputs": [],
   "source": []
  },
  {
   "cell_type": "code",
   "execution_count": null,
   "metadata": {},
   "outputs": [],
   "source": []
  },
  {
   "cell_type": "code",
   "execution_count": null,
   "metadata": {},
   "outputs": [],
   "source": []
  }
 ],
 "metadata": {
  "kernelspec": {
   "display_name": "Python 3",
   "language": "python",
   "name": "python3"
  },
  "language_info": {
   "codemirror_mode": {
    "name": "ipython",
    "version": 3
   },
   "file_extension": ".py",
   "mimetype": "text/x-python",
   "name": "python",
   "nbconvert_exporter": "python",
   "pygments_lexer": "ipython3",
   "version": "3.7.3"
  }
 },
 "nbformat": 4,
 "nbformat_minor": 2
}

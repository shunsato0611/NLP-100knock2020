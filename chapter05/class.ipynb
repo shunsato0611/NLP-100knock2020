{
 "cells": [
  {
   "cell_type": "markdown",
   "metadata": {},
   "source": [
    "# クラスって何？"
   ]
  },
  {
   "cell_type": "raw",
   "metadata": {},
   "source": [
    "Pythonはあらゆるものをオブジェクトとして扱っています．\n",
    "数値もモジュールも全部オブジェクトです．\n",
    "\n",
    "例えば data = 'cat'\n",
    "とすればdataは　String 型のobjectになります．\n",
    "\n",
    "String型のobjectは　capitalize()とかreplace()などの [メソッド]を持っています\n",
    "\n",
    "こういうobjectを自分でカスタムして1から作りたい時に必要なのが[クラス]です"
   ]
  },
  {
   "cell_type": "code",
   "execution_count": 6,
   "metadata": {},
   "outputs": [
    {
     "data": {
      "text/plain": [
       "__main__.Person"
      ]
     },
     "execution_count": 6,
     "metadata": {},
     "output_type": "execute_result"
    }
   ],
   "source": [
    "#例1 人を表すPersonというclassを定義してみます\n",
    "#何も機能を持っていないPersonclass のsomeoneという変数ができました\n",
    "\n",
    "class Person():\n",
    "    pass\n",
    "\n",
    "someone = Person()\n",
    "\n",
    "type(someone)\n"
   ]
  },
  {
   "cell_type": "code",
   "execution_count": 9,
   "metadata": {},
   "outputs": [
    {
     "name": "stdout",
     "output_type": "stream",
     "text": [
      "<class '__main__.Person'>\n",
      "Elmer\n"
     ]
    }
   ],
   "source": [
    "#今度はこの名前として Elmerという名前を持つhunterというclassにしてみたいと思います\n",
    "#initは呼ばれた時に初期化を行う部分です，\n",
    "#selfというのはこのclsassで生成されるobjectそのものを指します\n",
    "#nameという\n",
    "\n",
    "class Person():\n",
    "    def __init__(self,name):\n",
    "        self.name = name\n",
    "        \n",
    "hunter = Person('Elmer')\n",
    "\n",
    "print(type(hunter))\n",
    "print(hunter.name)"
   ]
  },
  {
   "cell_type": "code",
   "execution_count": 18,
   "metadata": {},
   "outputs": [
    {
     "name": "stdout",
     "output_type": "stream",
     "text": [
      "2.0\n"
     ]
    }
   ],
   "source": [
    "#今度はこのclassにメソッドを定義したいと思います\n",
    "#divide methodは数字が与えられたら2で割ります\n",
    "\n",
    "class Person():\n",
    "    def __init__(self,name):\n",
    "        self.name = name\n",
    "        \n",
    "    def devide2(self,num):\n",
    "        return num/2\n",
    "        \n",
    "hunter = Person('Elmer')\n",
    "\n",
    "number = hunter.devide2(4)\n",
    "print(number)"
   ]
  },
  {
   "cell_type": "code",
   "execution_count": 25,
   "metadata": {},
   "outputs": [
    {
     "name": "stdout",
     "output_type": "stream",
     "text": [
      "name Elmer.jr\n",
      "2.0\n",
      "Personの機能も使えていますね\n",
      "\n",
      "新機能add2の方はどうでしょうか\n",
      "6\n"
     ]
    }
   ],
   "source": [
    "#じゃあ今度はこのclassに与えられた数字に2を足して返すadd2というメソッドを加えてPerson_v2という\n",
    "#classを作ってみましょう\n",
    "\n",
    "#add2以外全部classと同じなのに毎回全部書くの面倒　=> 継承\n",
    "\n",
    "class Person_v2(Person):\n",
    "    def add2(self,num):\n",
    "        return num+2\n",
    "    \n",
    "hunter2 = Person_v2(\"Elmer.jr\")\n",
    "\n",
    "print(\"name\",hunter2.name)\n",
    "print(hunter2.devide2(4))\n",
    "print(\"Personの機能も使えていますね\\n\")\n",
    "\n",
    "print(\"新機能add2の方はどうでしょうか\")\n",
    "print(hunter2.add2(4))"
   ]
  },
  {
   "cell_type": "markdown",
   "metadata": {},
   "source": [
    "# 関数でよくない？なんでクラス使うの？"
   ]
  },
  {
   "cell_type": "markdown",
   "metadata": {},
   "source": [
    "### 1.関数よりメソッドの方がわかりやすい "
   ]
  },
  {
   "cell_type": "raw",
   "metadata": {},
   "source": [
    "http://satoshi.blogs.com/life/2004/09/post.htmlより\n",
    "\n",
    ">「ユーザーにオブジェクトを先に選ばせることにより選択の幅を狭くして使いやすくする」\n",
    "例えば、ユーザーが文書ファイルを選択すれば、コマンドの選択枝はおのずと、「編集する」、「印刷する」などに絞られる。これが、音楽ファイルの場合は、コマンドの選択枝は、「演奏する」、「CDに転送する」となる。これを逆に、コマンドを先に選択させようとすると、「編集する」、「印刷する」、「演奏する」、「CDに転送する」、「撮影する」、「接続する」などの膨大なリストから選択させなければならず、使い勝手がずっと悪くなってしまう"
   ]
  },
  {
   "cell_type": "markdown",
   "metadata": {},
   "source": [
    "### 2.変数スコープの縮小"
   ]
  },
  {
   "cell_type": "raw",
   "metadata": {},
   "source": [
    "•関数は他の関数・変数と名前が被らないように気をつけなければならない．普通グローバルで定義するので大変．\n",
    "•メソッドなら、同じデータ型のもつメソッド名・変数名と被らなければ良い\n",
    "•scikit-learnの例\n",
    "\n",
    "from sklearn.linear_model import LogisticRegression\n",
    "from sklearn.svm import SVR\n",
    "\n",
    "lr = LogisticRegression()\n",
    "lr.fit(X_train, y_train)\n",
    "lr.predict(X_test)\n",
    "\n",
    "svr = SVR()\n",
    "svr.fit(X_train, y_train)\n",
    "svr.predict(X_test)\n",
    "\n",
    "\n",
    "fitとかpredictがこれに該当"
   ]
  },
  {
   "cell_type": "markdown",
   "metadata": {},
   "source": [
    "### 3. その他"
   ]
  },
  {
   "cell_type": "raw",
   "metadata": {},
   "source": [
    "•「手順」より「オブジェクト間の関係（特にis-a関係, has-a関係）」として捉えた方が楽な問題がある\n",
    "•使い回しやすい\n",
    "•変更しやすい\n",
    "•大規模なコードを書くときはオブジェクト指向の方が便利\n",
    "•複数人で開発するときもオブジェクト指向の方が便利\n",
    "•知っていれば他人のコードを理解できるようになる\n",
    "•知っていればpythonの仕組みが少しわかる\n",
    "•素性抽出関数はオブジェクト指向で書く方が便利\n",
    "•ニューラルネットを使いたいときに必要"
   ]
  },
  {
   "cell_type": "code",
   "execution_count": null,
   "metadata": {},
   "outputs": [],
   "source": []
  }
 ],
 "metadata": {
  "kernelspec": {
   "display_name": "Python 3",
   "language": "python",
   "name": "python3"
  },
  "language_info": {
   "codemirror_mode": {
    "name": "ipython",
    "version": 3
   },
   "file_extension": ".py",
   "mimetype": "text/x-python",
   "name": "python",
   "nbconvert_exporter": "python",
   "pygments_lexer": "ipython3",
   "version": "3.7.3"
  }
 },
 "nbformat": 4,
 "nbformat_minor": 2
}

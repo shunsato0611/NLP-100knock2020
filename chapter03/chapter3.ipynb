{
 "cells": [
  {
   "cell_type": "markdown",
   "metadata": {},
   "source": [
    "## 20. JSONデータの読み込み"
   ]
  },
  {
   "cell_type": "markdown",
   "metadata": {},
   "source": [
    "Wikipedia記事のJSONファイルを読み込み，「イギリス」に関する記事本文を表示せよ．問題21-29では，ここで抽出した記事本文に対して実行せよ．"
   ]
  },
  {
   "cell_type": "code",
   "execution_count": 3,
   "metadata": {},
   "outputs": [
    {
     "name": "stdout",
     "output_type": "stream",
     "text": [
      "--2020-07-21 09:16:33--  http://www.cl.ecei.tohoku.ac.jp/nlp100/data/jawiki-country.json.gz\n",
      "www.cl.ecei.tohoku.ac.jp (www.cl.ecei.tohoku.ac.jp) をDNSに問いあわせています... 130.34.192.83\n",
      "www.cl.ecei.tohoku.ac.jp (www.cl.ecei.tohoku.ac.jp)|130.34.192.83|:80 に接続しています... 接続しました。\n",
      "HTTP による接続要求を送信しました、応答を待っています... 200 OK\n",
      "長さ: 3605822 (3.4M) [application/x-gzip]\n",
      "`./data/jawiki-country.json.gz' に保存中\n",
      "\n",
      "jawiki-country.json 100%[===================>]   3.44M  3.13MB/s 時間 1.1s     \n",
      "\n",
      "2020-07-21 09:16:35 (3.13 MB/s) - `./data/jawiki-country.json.gz' へ保存完了 [3605822/3605822]\n",
      "\n"
     ]
    }
   ],
   "source": [
    "!wget -NP ./data http://www.cl.ecei.tohoku.ac.jp/nlp100/data/jawiki-country.json.gz"
   ]
  },
  {
   "cell_type": "code",
   "execution_count": 6,
   "metadata": {},
   "outputs": [
    {
     "name": "stdout",
     "output_type": "stream",
     "text": [
      "{\"text\": \"{{otheruses|主に現代のエジプト・アラブ共和国|古代|古代エジプト}}\\n{{基礎情報 国\\n|略名 =エジプト\\n|日本語国名 =エジプト・アラブ共和国\\n|公式国名 ='''{{lang|ar|جمهورية مصر العربية}}'''\\n|国旗画像 =Flag of Egypt.svg\\n|国章画像 =[[ファイル:Coat_of_arms_of_Egypt.svg|100px|エジプトの国章]]\\n|国章リンク =（[[エジプトの国章|国章]]）\\n|標語 =なし\\n|位置画像 =Egypt (orthographic projection).svg\\n|公用語 =[[アラビア語]]\\n|首都 =[[カイロ]]\\n|最大都市 =カイロ\\n|元首等肩書 =[[近代エジプトの国家元首の一覧|大統領]]\\n|元首等氏名 =[[アブドルファッターフ・アッ＝シーシー]]\\n|首相等肩書 =[[エジプトの首相|首相]]\\n|首相等氏名 =[[イブラヒーム・メフレブ]]\\n|面積順位 =29\\n|面積大きさ =1 E12\\n|面積値 =1,001,450\\n|水面積率 =0.6%\\n|人口統計年 =2011\\n|人口順位 =\\n|人口大"
     ]
    }
   ],
   "source": [
    "!head -c 1000 ./data/jawiki-country.json"
   ]
  },
  {
   "cell_type": "code",
   "execution_count": 9,
   "metadata": {},
   "outputs": [],
   "source": [
    "import json\n",
    "json_path = './data/jawiki-country.json'\n",
    "\n",
    "with open('./work/england.txt', 'w') as f_eng:\n",
    "    for line in open(json_path):\n",
    "        line = line.strip()\n",
    "\n",
    "        article_dict = json.loads(line)\n",
    "        if article_dict['title'] == 'イギリス':\n",
    "            f_eng.write(article_dict['text'])\n",
    "            break\n"
   ]
  },
  {
   "cell_type": "markdown",
   "metadata": {},
   "source": [
    "## 21. カテゴリ名を含む行を抽出"
   ]
  },
  {
   "cell_type": "markdown",
   "metadata": {},
   "source": [
    "記事中でカテゴリ名を宣言している行を抽出せよ"
   ]
  },
  {
   "cell_type": "code",
   "execution_count": 69,
   "metadata": {},
   "outputs": [
    {
     "name": "stdout",
     "output_type": "stream",
     "text": [
      "[[Category:イギリス|*]]\n",
      "[[Category:英連邦王国|*]]\n",
      "[[Category:G8加盟国]]\n",
      "[[Category:欧州連合加盟国]]\n",
      "[[Category:海洋国家]]\n",
      "[[Category:君主国]]\n",
      "[[Category:島国|くれいとふりてん]]\n",
      "[[Category:1801年に設立された州・地域]]\n"
     ]
    }
   ],
   "source": [
    "import re\n",
    "\n",
    "for line in open('./work/england.txt'):\n",
    "    line = line.strip()\n",
    "    \n",
    "    if re.search('Category', line):\n",
    "        print(line)"
   ]
  },
  {
   "cell_type": "markdown",
   "metadata": {},
   "source": [
    "## 22. カテゴリ名の抽出"
   ]
  },
  {
   "cell_type": "markdown",
   "metadata": {},
   "source": [
    "記事のカテゴリ名を（行単位ではなく名前で）抽出せよ．"
   ]
  },
  {
   "cell_type": "code",
   "execution_count": 13,
   "metadata": {},
   "outputs": [
    {
     "name": "stdout",
     "output_type": "stream",
     "text": [
      "イギリス\n",
      "英連邦王国\n",
      "G8加盟国\n",
      "欧州連合加盟国\n",
      "海洋国家\n",
      "君主国\n",
      "島国\n",
      "1801年に設立された州・地域\n"
     ]
    }
   ],
   "source": [
    "for line in open('./work/england.txt'):\n",
    "    line = line.strip()\n",
    "    \n",
    "    if line.startswith('[[Category:'):\n",
    "        line = line.lstrip('[[Category:')\n",
    "        #|があったら左だけとってくる\n",
    "        if '|' in line:\n",
    "            category_name, _ = line.split('|')\n",
    "        else :\n",
    "            category_name = line.rstrip(']]')\n",
    "        print(category_name)"
   ]
  },
  {
   "cell_type": "markdown",
   "metadata": {},
   "source": [
    "##  23. セクション構造"
   ]
  },
  {
   "cell_type": "markdown",
   "metadata": {},
   "source": [
    "記事中に含まれるセクション名とそのレベル（例えば\"== セクション名 ==\"なら1）を表示せよ．"
   ]
  },
  {
   "cell_type": "code",
   "execution_count": 54,
   "metadata": {},
   "outputs": [
    {
     "name": "stdout",
     "output_type": "stream",
     "text": [
      "国名 1\n",
      "歴史 1\n",
      "地理 1\n",
      "気候 2\n",
      "政治 1\n",
      "外交と軍事 1\n",
      "地方行政区分 1\n",
      "主要都市 2\n",
      "科学技術 1\n",
      "経済 1\n",
      "鉱業 2\n",
      "農業 2\n",
      "貿易 2\n",
      "通貨 2\n",
      "企業 2\n",
      "交通 1\n",
      "道路 2\n",
      "鉄道 2\n",
      "海運 2\n",
      "航空 2\n",
      "通信 1\n",
      "国民 1\n",
      "言語 2\n",
      "宗教 2\n",
      "婚姻 2\n",
      "教育 2\n",
      "文化 1\n",
      "食文化 2\n",
      "文学 2\n",
      "哲学 2\n",
      "音楽 2\n",
      "イギリスのポピュラー音楽 3\n",
      "映画 2\n",
      "コメディ 2\n",
      "国花 2\n",
      "世界遺産 2\n",
      "祝祭日 2\n",
      "スポーツ 1\n",
      "サッカー 2\n",
      "競馬 2\n",
      "モータースポーツ 2\n",
      "脚注 1\n",
      "関連項目 1\n",
      "外部リンク 1\n"
     ]
    }
   ],
   "source": [
    "import re\n",
    "\n",
    "##==の数でレベルが決まる\n",
    "section_pattern = re.compile(\"(?P<section>={2,6}).*?(?P=section)\")\n",
    "\n",
    "for line in open('./work/england.txt'):\n",
    "    line = line.strip()\n",
    "    \n",
    "    if section_pattern.match(line):\n",
    "        m = section_pattern.match(line)\n",
    "        level = int(line.count(\"=\")/2)-1\n",
    "        section_name = line.strip('=').strip()\n",
    "        print(section_name, level)"
   ]
  },
  {
   "cell_type": "markdown",
   "metadata": {},
   "source": [
    "## 24. ファイル参照の抽出"
   ]
  },
  {
   "cell_type": "markdown",
   "metadata": {},
   "source": [
    "記事から参照されているメディアファイルをすべて抜き出せ．"
   ]
  },
  {
   "cell_type": "code",
   "execution_count": 60,
   "metadata": {},
   "outputs": [
    {
     "name": "stdout",
     "output_type": "stream",
     "text": [
      "Battle of Waterloo 1815.PNG\n",
      "The British Empire.png\n",
      "Uk topo en.jpg\n",
      "BenNevis2005.jpg\n",
      "Elizabeth II greets NASA GSFC employees, May 8, 2007 edit.jpg\n",
      "Palace of Westminster, London - Feb 2007.jpg\n",
      "David Cameron and Barack Obama at the G20 Summit in Toronto.jpg\n",
      "Soldiers Trooping the Colour, 16th June 2007.jpg\n",
      "Scotland Parliament Holyrood.jpg\n",
      "London.bankofengland.arp.jpg\n",
      "City of London skyline from London City Hall - Oct 2008.jpg\n",
      "Oil platform in the North SeaPros.jpg\n",
      "Eurostar at St Pancras Jan 2008.jpg\n",
      "Heathrow T5.jpg\n",
      "Anglospeak.svg\n"
     ]
    }
   ],
   "source": [
    "import re\n",
    "\n",
    "file_pattern = re.compile(r\"(?<=File:).*?\\.(jpg|jpeg|png|gif|svg|tiff|ogg|oga|ogv|pdf|djvu)\", flags = re.IGNORECASE)\n",
    "media_pattern = re.compile(r\"(?<=Media:).*?\\.(jpg|jpeg|png|gif|svg|tiff|ogg|oga|ogv|pdf|djvu)\", flags = re.IGNORECASE)\n",
    "\n",
    "for line in open('./work/england.txt'):\n",
    "    if file_pattern.search(line):\n",
    "        m = file_pattern.search(line)\n",
    "        print(m.group())\n",
    "    elif media_pattern.search(line):\n",
    "        m = media_pattern.search(line)\n",
    "        print(m.group())"
   ]
  },
  {
   "cell_type": "markdown",
   "metadata": {},
   "source": [
    "## 25. テンプレートの抽出"
   ]
  },
  {
   "cell_type": "markdown",
   "metadata": {},
   "source": [
    "記事中に含まれる「基礎情報」テンプレートのフィールド名と値を抽出し，辞書オブジェクトとして格納せよ"
   ]
  },
  {
   "cell_type": "code",
   "execution_count": 84,
   "metadata": {},
   "outputs": [],
   "source": [
    "from itertools import dropwhile, takewhile,groupby\n",
    "\n",
    "def arrange_info_text(info_text):\n",
    "    new_info_text = []\n",
    "    for k, g in groupby(info_text, lambda line: line.startswith('|')):\n",
    "        if k:\n",
    "            new_info_text.extend(list(g))\n",
    "        else:\n",
    "            additional_info = ''.join(g)\n",
    "            new_info_text[-1] += additional_info\n",
    "    return new_info_text\n",
    "\n",
    "text = [line.strip() for line in open('./work/england.txt')]\n",
    "\n",
    "#take while => 条件を満たすまで全部取ってくる\n",
    "#drop while => 条件を満たしたらそのあと全部とる\n",
    "flag = False\n",
    "for item in text:\n",
    "    if line.startswith('{{基礎情報'):\n",
    "        flag = True\n",
    "    \n",
    "    if flag:\n",
    "        info_text.append(line)\n",
    "    \n",
    "    if line.startswith('}}'):\n",
    "        break\n",
    "\n",
    "info_text = arrange_info_text(info_text)"
   ]
  },
  {
   "cell_type": "code",
   "execution_count": 86,
   "metadata": {},
   "outputs": [
    {
     "name": "stdout",
     "output_type": "stream",
     "text": [
      "{'GDP/人': '36,727<ref name=\"imf-statistics-gdp\" />',\n",
      " 'GDP値': '2兆3162億<ref name=\"imf-statistics-gdp\" />',\n",
      " 'GDP値MER': '2兆4337億<ref name=\"imf-statistics-gdp\" />',\n",
      " 'GDP値元': '1兆5478億<ref '\n",
      "          'name=\"imf-statistics-gdp\">[http://www.imf.org/external/pubs/ft/weo/2012/02/weodata/weorept.aspx?pr.x=70&pr.y=13&sy=2010&ey=2012&scsm=1&ssd=1&sort=country&ds=.&br=1&c=112&s=NGDP%2CNGDPD%2CPPPGDP%2CPPPPC&grp=0&a= '\n",
      "          'IMF>Data and Statistics>World Economic Outlook Databases>By '\n",
      "          'Countrise>United Kingdom]</ref>',\n",
      " 'GDP統計年': '2012',\n",
      " 'GDP統計年MER': '2012',\n",
      " 'GDP統計年元': '2012',\n",
      " 'GDP順位': '6',\n",
      " 'GDP順位MER': '5',\n",
      " 'ISO 3166-1': 'GB / GBR',\n",
      " 'ccTLD': '[[.uk]] / [[.gb]]<ref>使用は.ukに比べ圧倒的少数。</ref>',\n",
      " '人口値': '63,181,775<ref>[http://esa.un.org/unpd/wpp/Excel-Data/population.htm '\n",
      "        'United Nations Department of Economic and Social Affairs>Population '\n",
      "        'Division>Data>Population>Total Population]</ref>',\n",
      " '人口大きさ': '1 E7',\n",
      " '人口密度値': '246',\n",
      " '人口統計年': '2011',\n",
      " '人口順位': '22',\n",
      " '位置画像': 'Location_UK_EU_Europe_001.svg',\n",
      " '元首等氏名': '[[エリザベス2世]]',\n",
      " '元首等肩書': '[[イギリスの君主|女王]]',\n",
      " '公式国名': '{{lang|en|United Kingdom of Great Britain and Northern '\n",
      "         'Ireland}}<ref>英語以外での正式国名:<br/>*{{lang|gd|An Rìoghachd Aonaichte na '\n",
      "         'Breatainn Mhòr agus Eirinn mu '\n",
      "         'Thuath}}（[[スコットランド・ゲール語]]）<br/>*{{lang|cy|Teyrnas Gyfunol Prydain '\n",
      "         'Fawr a Gogledd Iwerddon}}（[[ウェールズ語]]）<br/>*{{lang|ga|Ríocht '\n",
      "         'Aontaithe na Breataine Móire agus Tuaisceart na '\n",
      "         'hÉireann}}（[[アイルランド語]]）<br/>*{{lang|kw|An Rywvaneth Unys a Vreten '\n",
      "         'Veur hag Iwerdhon Glédh}}（[[コーンウォール語]]）<br/>*{{lang|sco|Unitit '\n",
      "         'Kinrick o Great Breetain an Northren '\n",
      "         'Ireland}}（[[スコットランド語]]）<br/>**{{lang|sco|Claught Kängrick o Docht '\n",
      "         'Brätain an Norlin Airlann}}、{{lang|sco|Unitet Kängdom o Great '\n",
      "         'Brittain an Norlin Airlann}}（アルスター・スコットランド語）</ref>',\n",
      " '公用語': '[[英語]]（事実上）',\n",
      " '国旗画像': 'Flag of the United Kingdom.svg',\n",
      " '国歌': '[[女王陛下万歳|神よ女王陛下を守り給え]]',\n",
      " '国章リンク': '（[[イギリスの国章|国章]]）',\n",
      " '国章画像': '[[ファイル:Royal Coat of Arms of the United Kingdom.svg|85px|イギリスの国章]]',\n",
      " '国際電話番号': '44',\n",
      " '夏時間': '+1',\n",
      " '建国形態': '建国',\n",
      " '日本語国名': 'グレートブリテン及び北アイルランド連合王国',\n",
      " '時間帯': '±0',\n",
      " '最大都市': 'ロンドン',\n",
      " '標語': '{{lang|fr|Dieu et mon droit}}<br/>（[[フランス語]]:神と私の権利）',\n",
      " '水面積率': '1.3%',\n",
      " '注記': '<references />',\n",
      " '略名': 'イギリス',\n",
      " '確立年月日1': '[[927年]]／[[843年]]',\n",
      " '確立年月日2': '[[1707年]]',\n",
      " '確立年月日3': '[[1801年]]',\n",
      " '確立年月日4': '[[1927年]]',\n",
      " '確立形態1': '[[イングランド王国]]／[[スコットランド王国]]<br />（両国とも[[連合法 (1707年)|1707年連合法]]まで）',\n",
      " '確立形態2': '[[グレートブリテン王国]]建国<br />（[[連合法 (1707年)|1707年連合法]]）',\n",
      " '確立形態3': '[[グレートブリテン及びアイルランド連合王国]]建国<br />（[[連合法 (1800年)|1800年連合法]]）',\n",
      " '確立形態4': \"現在の国号「'''グレートブリテン及び北アイルランド連合王国'''」に変更\",\n",
      " '通貨': '[[スターリング・ポンド|UKポンド]] (&pound;)',\n",
      " '通貨コード': 'GBP',\n",
      " '面積値': '244,820',\n",
      " '面積大きさ': '1 E11',\n",
      " '面積順位': '76',\n",
      " '首相等氏名': '[[デーヴィッド・キャメロン]]',\n",
      " '首相等肩書': '[[イギリスの首相|首相]]',\n",
      " '首都': '[[ロンドン]]'}\n"
     ]
    }
   ],
   "source": [
    "# 辞書化\n",
    "import pprint \n",
    "\n",
    "info_dic = {info.split(' = ')[0].lstrip('|'):info.split(' = ')[1] for info in info_text}\n",
    "\n",
    "pprint.pprint(info_dic)"
   ]
  },
  {
   "cell_type": "markdown",
   "metadata": {},
   "source": [
    "## 26. 強調マークアップの除去"
   ]
  },
  {
   "cell_type": "markdown",
   "metadata": {},
   "source": [
    "25の処理時に，テンプレートの値からMediaWikiの強調マークアップ（弱い強調，強調，強い強調のすべて）を除去してテキストに変換せよ（参考: マークアップ早見表）．"
   ]
  },
  {
   "cell_type": "code",
   "execution_count": 87,
   "metadata": {},
   "outputs": [
    {
     "name": "stdout",
     "output_type": "stream",
     "text": [
      "{'GDP/人': '36,727<ref name=\"imf-statistics-gdp\" />',\n",
      " 'GDP値': '2兆3162億<ref name=\"imf-statistics-gdp\" />',\n",
      " 'GDP値MER': '2兆4337億<ref name=\"imf-statistics-gdp\" />',\n",
      " 'GDP値元': '1兆5478億<ref '\n",
      "          'name=\"imf-statistics-gdp\">[http://www.imf.org/external/pubs/ft/weo/2012/02/weodata/weorept.aspx?pr.x=70&pr.y=13&sy=2010&ey=2012&scsm=1&ssd=1&sort=country&ds=.&br=1&c=112&s=NGDP%2CNGDPD%2CPPPGDP%2CPPPPC&grp=0&a= '\n",
      "          'IMF>Data and Statistics>World Economic Outlook Databases>By '\n",
      "          'Countrise>United Kingdom]</ref>',\n",
      " 'GDP統計年': '2012',\n",
      " 'GDP統計年MER': '2012',\n",
      " 'GDP統計年元': '2012',\n",
      " 'GDP順位': '6',\n",
      " 'GDP順位MER': '5',\n",
      " 'ISO 3166-1': 'GB / GBR',\n",
      " 'ccTLD': '[[.uk]] / [[.gb]]<ref>使用は.ukに比べ圧倒的少数。</ref>',\n",
      " '人口値': '63,181,775<ref>[http://esa.un.org/unpd/wpp/Excel-Data/population.htm '\n",
      "        'United Nations Department of Economic and Social Affairs>Population '\n",
      "        'Division>Data>Population>Total Population]</ref>',\n",
      " '人口大きさ': '1 E7',\n",
      " '人口密度値': '246',\n",
      " '人口統計年': '2011',\n",
      " '人口順位': '22',\n",
      " '位置画像': 'Location_UK_EU_Europe_001.svg',\n",
      " '元首等氏名': '[[エリザベス2世]]',\n",
      " '元首等肩書': '[[イギリスの君主|女王]]',\n",
      " '公式国名': '{{lang|en|United Kingdom of Great Britain and Northern '\n",
      "         'Ireland}}<ref>英語以外での正式国名:<br/>*{{lang|gd|An Rìoghachd Aonaichte na '\n",
      "         'Breatainn Mhòr agus Eirinn mu '\n",
      "         'Thuath}}（[[スコットランド・ゲール語]]）<br/>*{{lang|cy|Teyrnas Gyfunol Prydain '\n",
      "         'Fawr a Gogledd Iwerddon}}（[[ウェールズ語]]）<br/>*{{lang|ga|Ríocht '\n",
      "         'Aontaithe na Breataine Móire agus Tuaisceart na '\n",
      "         'hÉireann}}（[[アイルランド語]]）<br/>*{{lang|kw|An Rywvaneth Unys a Vreten '\n",
      "         'Veur hag Iwerdhon Glédh}}（[[コーンウォール語]]）<br/>*{{lang|sco|Unitit '\n",
      "         'Kinrick o Great Breetain an Northren '\n",
      "         'Ireland}}（[[スコットランド語]]）<br/>**{{lang|sco|Claught Kängrick o Docht '\n",
      "         'Brätain an Norlin Airlann}}、{{lang|sco|Unitet Kängdom o Great '\n",
      "         'Brittain an Norlin Airlann}}（アルスター・スコットランド語）</ref>',\n",
      " '公用語': '[[英語]]（事実上）',\n",
      " '国旗画像': 'Flag of the United Kingdom.svg',\n",
      " '国歌': '[[女王陛下万歳|神よ女王陛下を守り給え]]',\n",
      " '国章リンク': '（[[イギリスの国章|国章]]）',\n",
      " '国章画像': '[[ファイル:Royal Coat of Arms of the United Kingdom.svg|85px|イギリスの国章]]',\n",
      " '国際電話番号': '44',\n",
      " '夏時間': '+1',\n",
      " '建国形態': '建国',\n",
      " '日本語国名': 'グレートブリテン及び北アイルランド連合王国',\n",
      " '時間帯': '±0',\n",
      " '最大都市': 'ロンドン',\n",
      " '標語': '{{lang|fr|Dieu et mon droit}}<br/>（[[フランス語]]:神と私の権利）',\n",
      " '水面積率': '1.3%',\n",
      " '注記': '<references />',\n",
      " '略名': 'イギリス',\n",
      " '確立年月日1': '[[927年]]／[[843年]]',\n",
      " '確立年月日2': '[[1707年]]',\n",
      " '確立年月日3': '[[1801年]]',\n",
      " '確立年月日4': '[[1927年]]',\n",
      " '確立形態1': '[[イングランド王国]]／[[スコットランド王国]]<br />（両国とも[[連合法 (1707年)|1707年連合法]]まで）',\n",
      " '確立形態2': '[[グレートブリテン王国]]建国<br />（[[連合法 (1707年)|1707年連合法]]）',\n",
      " '確立形態3': '[[グレートブリテン及びアイルランド連合王国]]建国<br />（[[連合法 (1800年)|1800年連合法]]）',\n",
      " '確立形態4': '現在の国号「グレートブリテン及び北アイルランド連合王国」に変更',\n",
      " '通貨': '[[スターリング・ポンド|UKポンド]] (&pound;)',\n",
      " '通貨コード': 'GBP',\n",
      " '面積値': '244,820',\n",
      " '面積大きさ': '1 E11',\n",
      " '面積順位': '76',\n",
      " '首相等氏名': '[[デーヴィッド・キャメロン]]',\n",
      " '首相等肩書': '[[イギリスの首相|首相]]',\n",
      " '首都': '[[ロンドン]]'}\n"
     ]
    }
   ],
   "source": [
    "import pprint\n",
    "\n",
    "emp_pattern = re.compile(r\"(?P<emphasis>('{5}|'{2,3}))(?P<main_text>.*?)(?P=emphasis)\")\n",
    "\n",
    "def delete_emp(string):\n",
    "    def replacement(matchobj):\n",
    "        return matchobj.group('main_text')\n",
    "    return emp_pattern.sub(replacement, string)\n",
    "\n",
    "info_dic = {}\n",
    "for info in info_text:\n",
    "    if emp_pattern.search(info):\n",
    "        info = delete_emp(info)\n",
    "        \n",
    "    key = info.split(' = ')[0].strip('|')\n",
    "    value = info.split(' = ')[1]\n",
    "    info_dic[key] = value\n",
    "\n",
    "pprint.pprint(info_dic)"
   ]
  },
  {
   "cell_type": "markdown",
   "metadata": {},
   "source": [
    "## 27. 内部リンクの除去"
   ]
  },
  {
   "cell_type": "markdown",
   "metadata": {},
   "source": [
    "26の処理に加えて，テンプレートの値からMediaWikiの内部リンクマークアップを除去し，テキストに変換せよ（参考: マークアップ早見表）．"
   ]
  },
  {
   "cell_type": "code",
   "execution_count": 88,
   "metadata": {},
   "outputs": [
    {
     "name": "stdout",
     "output_type": "stream",
     "text": [
      "{'GDP/人': '36,727<ref name=\"imf-statistics-gdp\" />',\n",
      " 'GDP値': '2兆3162億<ref name=\"imf-statistics-gdp\" />',\n",
      " 'GDP値MER': '2兆4337億<ref name=\"imf-statistics-gdp\" />',\n",
      " 'GDP値元': '1兆5478億<ref '\n",
      "          'name=\"imf-statistics-gdp\">[http://www.imf.org/external/pubs/ft/weo/2012/02/weodata/weorept.aspx?pr.x=70&pr.y=13&sy=2010&ey=2012&scsm=1&ssd=1&sort=country&ds=.&br=1&c=112&s=NGDP%2CNGDPD%2CPPPGDP%2CPPPPC&grp=0&a= '\n",
      "          'IMF>Data and Statistics>World Economic Outlook Databases>By '\n",
      "          'Countrise>United Kingdom]</ref>',\n",
      " 'GDP統計年': '2012',\n",
      " 'GDP統計年MER': '2012',\n",
      " 'GDP統計年元': '2012',\n",
      " 'GDP順位': '6',\n",
      " 'GDP順位MER': '5',\n",
      " 'ISO 3166-1': 'GB / GBR',\n",
      " 'ccTLD': '.uk / .gb<ref>使用は.ukに比べ圧倒的少数。</ref>',\n",
      " '人口値': '63,181,775<ref>[http://esa.un.org/unpd/wpp/Excel-Data/population.htm '\n",
      "        'United Nations Department of Economic and Social Affairs>Population '\n",
      "        'Division>Data>Population>Total Population]</ref>',\n",
      " '人口大きさ': '1 E7',\n",
      " '人口密度値': '246',\n",
      " '人口統計年': '2011',\n",
      " '人口順位': '22',\n",
      " '位置画像': 'Location_UK_EU_Europe_001.svg',\n",
      " '元首等氏名': 'エリザベス2世',\n",
      " '元首等肩書': '女王',\n",
      " '公式国名': '{{lang|en|United Kingdom of Great Britain and Northern '\n",
      "         'Ireland}}<ref>英語以外での正式国名:<br/>*{{lang|gd|An Rìoghachd Aonaichte na '\n",
      "         'Breatainn Mhòr agus Eirinn mu '\n",
      "         'Thuath}}（スコットランド・ゲール語）<br/>*{{lang|cy|Teyrnas Gyfunol Prydain Fawr a '\n",
      "         'Gogledd Iwerddon}}（ウェールズ語）<br/>*{{lang|ga|Ríocht Aontaithe na '\n",
      "         'Breataine Móire agus Tuaisceart na '\n",
      "         'hÉireann}}（アイルランド語）<br/>*{{lang|kw|An Rywvaneth Unys a Vreten Veur '\n",
      "         'hag Iwerdhon Glédh}}（コーンウォール語）<br/>*{{lang|sco|Unitit Kinrick o '\n",
      "         'Great Breetain an Northren '\n",
      "         'Ireland}}（スコットランド語）<br/>**{{lang|sco|Claught Kängrick o Docht '\n",
      "         'Brätain an Norlin Airlann}}、{{lang|sco|Unitet Kängdom o Great '\n",
      "         'Brittain an Norlin Airlann}}（アルスター・スコットランド語）</ref>',\n",
      " '公用語': '英語（事実上）',\n",
      " '国旗画像': 'Flag of the United Kingdom.svg',\n",
      " '国歌': '神よ女王陛下を守り給え',\n",
      " '国章リンク': '（国章）',\n",
      " '国章画像': 'ファイル:Royal Coat of Arms of the United Kingdom.svg|85px|イギリスの国章',\n",
      " '国際電話番号': '44',\n",
      " '夏時間': '+1',\n",
      " '建国形態': '建国',\n",
      " '日本語国名': 'グレートブリテン及び北アイルランド連合王国',\n",
      " '時間帯': '±0',\n",
      " '最大都市': 'ロンドン',\n",
      " '標語': '{{lang|fr|Dieu et mon droit}}<br/>（フランス語:神と私の権利）',\n",
      " '水面積率': '1.3%',\n",
      " '注記': '<references />',\n",
      " '略名': 'イギリス',\n",
      " '確立年月日1': '927年／843年',\n",
      " '確立年月日2': '1707年',\n",
      " '確立年月日3': '1801年',\n",
      " '確立年月日4': '1927年',\n",
      " '確立形態1': 'イングランド王国／スコットランド王国<br />（両国とも1707年連合法まで）',\n",
      " '確立形態2': 'グレートブリテン王国建国<br />（1707年連合法）',\n",
      " '確立形態3': 'グレートブリテン及びアイルランド連合王国建国<br />（1800年連合法）',\n",
      " '確立形態4': '現在の国号「グレートブリテン及び北アイルランド連合王国」に変更',\n",
      " '通貨': 'UKポンド (&pound;)',\n",
      " '通貨コード': 'GBP',\n",
      " '面積値': '244,820',\n",
      " '面積大きさ': '1 E11',\n",
      " '面積順位': '76',\n",
      " '首相等氏名': 'デーヴィッド・キャメロン',\n",
      " '首相等肩書': '首相',\n",
      " '首都': 'ロンドン'}\n"
     ]
    }
   ],
   "source": [
    "import pprint\n",
    "\n",
    "emp_pattern = re.compile(r\"(?P<emphasis>('{5}|'{2,3}))(?P<main_text>.*?)(?P=emphasis)\")\n",
    "link_pattern = re.compile(r\"\\[\\[(?P<main_text>.*?)]]\")\n",
    "\n",
    "def delete_emp(string):\n",
    "    def emp_replace(matchobj):\n",
    "        return matchobj.group('main_text')\n",
    "    return emp_pattern.sub(emp_replace, string)\n",
    "\n",
    "def delete_link(string):\n",
    "    def link_replace(matchobj):\n",
    "        main_text = matchobj.group('main_text')\n",
    "        if not(main_text.startswith('ファイル:')):\n",
    "            return re.sub('.*?\\|', '', main_text)\n",
    "        else :\n",
    "            return main_text\n",
    "    return link_pattern.sub(link_replace, string)\n",
    "\n",
    "info_dic = {}\n",
    "for info in info_text:\n",
    "    if emp_pattern.search(info):\n",
    "        info = delete_emp(info)\n",
    "    if link_pattern.search(info):\n",
    "        info = delete_link(info)\n",
    "        \n",
    "    key = info.split(' = ')[0].strip('|')\n",
    "    value = info.split(' = ')[1]\n",
    "    info_dic[key] = value\n",
    "\n",
    "pprint.pprint(info_dic)"
   ]
  },
  {
   "cell_type": "markdown",
   "metadata": {},
   "source": [
    "## 28. MediaWikiマークアップの除去"
   ]
  },
  {
   "cell_type": "markdown",
   "metadata": {},
   "source": [
    "27の処理に加えて，テンプレートの値からMediaWikiマークアップを可能な限り除去し，国の基本情報を整形せよ．"
   ]
  },
  {
   "cell_type": "code",
   "execution_count": 89,
   "metadata": {},
   "outputs": [
    {
     "name": "stdout",
     "output_type": "stream",
     "text": [
      "{'GDP/人': '36,727',\n",
      " 'GDP値': '2兆3162億',\n",
      " 'GDP値MER': '2兆4337億',\n",
      " 'GDP値元': '1兆5478億',\n",
      " 'GDP統計年': '2012',\n",
      " 'GDP統計年MER': '2012',\n",
      " 'GDP統計年元': '2012',\n",
      " 'GDP順位': '6',\n",
      " 'GDP順位MER': '5',\n",
      " 'ISO 3166-1': 'GB / GBR',\n",
      " 'ccTLD': '.uk / .gb',\n",
      " '人口値': '63,181,775',\n",
      " '人口大きさ': '1 E7',\n",
      " '人口密度値': '246',\n",
      " '人口統計年': '2011',\n",
      " '人口順位': '22',\n",
      " '位置画像': 'Location_UK_EU_Europe_001.svg',\n",
      " '元首等氏名': 'エリザベス2世',\n",
      " '元首等肩書': '女王',\n",
      " '公式国名': 'United Kingdom of Great Britain and Northern Ireland',\n",
      " '公用語': '英語（事実上）',\n",
      " '国旗画像': 'Flag of the United Kingdom.svg',\n",
      " '国歌': '神よ女王陛下を守り給え',\n",
      " '国章リンク': '（国章）',\n",
      " '国章画像': 'ファイル:Royal Coat of Arms of the United Kingdom.svg|85px|イギリスの国章',\n",
      " '国際電話番号': '44',\n",
      " '夏時間': '+1',\n",
      " '建国形態': '建国',\n",
      " '日本語国名': 'グレートブリテン及び北アイルランド連合王国',\n",
      " '時間帯': '±0',\n",
      " '最大都市': 'ロンドン',\n",
      " '標語': 'Dieu et mon droit（フランス語:神と私の権利）',\n",
      " '水面積率': '1.3%',\n",
      " '注記': '',\n",
      " '略名': 'イギリス',\n",
      " '確立年月日1': '927年／843年',\n",
      " '確立年月日2': '1707年',\n",
      " '確立年月日3': '1801年',\n",
      " '確立年月日4': '1927年',\n",
      " '確立形態1': 'イングランド王国／スコットランド王国（両国とも1707年連合法まで）',\n",
      " '確立形態2': 'グレートブリテン王国建国（1707年連合法）',\n",
      " '確立形態3': 'グレートブリテン及びアイルランド連合王国建国（1800年連合法）',\n",
      " '確立形態4': '現在の国号「グレートブリテン及び北アイルランド連合王国」に変更',\n",
      " '通貨': 'UKポンド (&pound;)',\n",
      " '通貨コード': 'GBP',\n",
      " '面積値': '244,820',\n",
      " '面積大きさ': '1 E11',\n",
      " '面積順位': '76',\n",
      " '首相等氏名': 'デーヴィッド・キャメロン',\n",
      " '首相等肩書': '首相',\n",
      " '首都': 'ロンドン'}\n"
     ]
    }
   ],
   "source": [
    "import re\n",
    "import pprint\n",
    "\n",
    "emp_pattern = re.compile(r\"(?P<emphasis>('{5}|'{2,3}))(?P<main_text>.*?)(?P=emphasis)\")\n",
    "in_link_pattern = re.compile(r\"\\[\\[(?P<main_text>.*?)]]\")\n",
    "out_link_pattern = re.compile(r\"\\[.*?]\")\n",
    "html_pattern = re.compile(r\"<.*>\")\n",
    "template_pattern = re.compile(r\"\\{\\{(?P<main_text>.*?)}}\")\n",
    "\n",
    "def delete_emp(string):\n",
    "    def emp_replace(matchobj):\n",
    "        return matchobj.group('main_text')\n",
    "    return emp_pattern.sub(emp_replace, string)\n",
    "\n",
    "def delete_in_link(string):\n",
    "    def in_link_replace(matchobj):\n",
    "        main_text = matchobj.group('main_text')\n",
    "        if not(main_text.startswith('ファイル:')):\n",
    "            return re.sub('.*?\\|', '', main_text)\n",
    "        else :\n",
    "            return main_text\n",
    "    return in_link_pattern.sub(in_link_replace, string)\n",
    "\n",
    "def delete_out_link(string):\n",
    "    return out_link_pattern.sub('', string)\n",
    "\n",
    "def delete_html(string):\n",
    "    return html_pattern.sub('', string)\n",
    "\n",
    "def delete_template(string):\n",
    "    def template_replace(matchobj):\n",
    "        main_text = matchobj.group('main_text')\n",
    "        return re.sub('.*?\\|', '', main_text)\n",
    "    return template_pattern.sub(template_replace, string)\n",
    "\n",
    "\n",
    "delete_func_list = [delete_emp, delete_in_link, delete_out_link, delete_html, delete_template]\n",
    "delete_pattern_list = [emp_pattern, in_link_pattern, out_link_pattern, html_pattern, template_pattern]\n",
    "\n",
    "info_dic = {}\n",
    "for info in info_text:\n",
    "    \n",
    "    for delete_pattern, delete_func in zip(delete_pattern_list, delete_func_list):\n",
    "        if delete_pattern.search(info):\n",
    "            info = delete_func(info)\n",
    "        \n",
    "    key = info.split(' = ')[0].strip('|')\n",
    "    value = info.split(' = ')[1]\n",
    "    info_dic[key] = value\n",
    "\n",
    "pprint.pprint(info_dic)"
   ]
  },
  {
   "cell_type": "markdown",
   "metadata": {},
   "source": [
    "## 29. 国旗画像のURLを取得する"
   ]
  },
  {
   "cell_type": "markdown",
   "metadata": {},
   "source": [
    "テンプレートの内容を利用し，国旗画像のURLを取得せよ．（ヒント: MediaWiki APIのimageinfoを呼び出して，ファイル参照をURLに変換すればよい）"
   ]
  },
  {
   "cell_type": "code",
   "execution_count": 90,
   "metadata": {},
   "outputs": [
    {
     "name": "stdout",
     "output_type": "stream",
     "text": [
      "https://upload.wikimedia.org/wikipedia/commons/a/ae/Flag_of_the_United_Kingdom.svg\n"
     ]
    }
   ],
   "source": [
    "import requests\n",
    "params = {'format': 'json', 'action': 'query', 'titles':'File:' + info_dic[\"国旗画像\"],\n",
    "          'prop': 'imageinfo', 'iiprop': 'url'}\n",
    "r = requests.get('https://commons.wikimedia.org/w/api.php', params)\n",
    "print(re.search(r'\"url\":\"(.+?)\"', r.text).group(1))"
   ]
  },
  {
   "cell_type": "code",
   "execution_count": 91,
   "metadata": {},
   "outputs": [
    {
     "name": "stdout",
     "output_type": "stream",
     "text": [
      "--2020-07-21 10:45:08--  https://upload.wikimedia.org/wikipedia/commons/a/ae/Flag_of_the_United_Kingdom.svg\n",
      "upload.wikimedia.org (upload.wikimedia.org) をDNSに問いあわせています... 103.102.166.240\n",
      "upload.wikimedia.org (upload.wikimedia.org)|103.102.166.240|:443 に接続しています... 接続しました。\n",
      "HTTP による接続要求を送信しました、応答を待っています... 200 OK\n",
      "長さ: 641 [image/svg+xml]\n",
      "`Flag_of_the_United_Kingdom.svg.2' に保存中\n",
      "\n",
      "Flag_of_the_United_ 100%[===================>]     641  --.-KB/s 時間 0s       \n",
      "\n",
      "2020-07-21 10:45:08 (7.55 MB/s) - `Flag_of_the_United_Kingdom.svg.2' へ保存完了 [641/641]\n",
      "\n"
     ]
    }
   ],
   "source": [
    "!wget https://upload.wikimedia.org/wikipedia/commons/a/ae/Flag_of_the_United_Kingdom.svg"
   ]
  },
  {
   "cell_type": "code",
   "execution_count": 92,
   "metadata": {},
   "outputs": [
    {
     "data": {
      "image/svg+xml": [
       "<svg height=\"600\" viewBox=\"0 0 60 30\" width=\"1200\" xmlns=\"http://www.w3.org/2000/svg\">\n",
       "<clipPath id=\"s\">\n",
       "\t<path d=\"M0,0 v30 h60 v-30 z\"/>\n",
       "</clipPath>\n",
       "<clipPath id=\"t\">\n",
       "\t<path d=\"M30,15 h30 v15 z v15 h-30 z h-30 v-15 z v-15 h30 z\"/>\n",
       "</clipPath>\n",
       "<g clip-path=\"url(#s)\">\n",
       "\t<path d=\"M0,0 v30 h60 v-30 z\" fill=\"#012169\"/>\n",
       "\t<path d=\"M0,0 L60,30 M60,0 L0,30\" stroke=\"#fff\" stroke-width=\"6\"/>\n",
       "\t<path clip-path=\"url(#t)\" d=\"M0,0 L60,30 M60,0 L0,30\" stroke=\"#C8102E\" stroke-width=\"4\"/>\n",
       "\t<path d=\"M30,0 v30 M0,15 h60\" stroke=\"#fff\" stroke-width=\"10\"/>\n",
       "\t<path d=\"M30,0 v30 M0,15 h60\" stroke=\"#C8102E\" stroke-width=\"6\"/>\n",
       "</g>\n",
       "</svg>"
      ],
      "text/plain": [
       "<IPython.core.display.SVG object>"
      ]
     },
     "execution_count": 92,
     "metadata": {},
     "output_type": "execute_result"
    }
   ],
   "source": [
    "from IPython.display import Image, SVG\n",
    "SVG('https://upload.wikimedia.org/wikipedia/commons/a/ae/Flag_of_the_United_Kingdom.svg')"
   ]
  }
 ],
 "metadata": {
  "kernelspec": {
   "display_name": "Python 3",
   "language": "python",
   "name": "python3"
  },
  "language_info": {
   "codemirror_mode": {
    "name": "ipython",
    "version": 3
   },
   "file_extension": ".py",
   "mimetype": "text/x-python",
   "name": "python",
   "nbconvert_exporter": "python",
   "pygments_lexer": "ipython3",
   "version": "3.7.3"
  }
 },
 "nbformat": 4,
 "nbformat_minor": 2
}

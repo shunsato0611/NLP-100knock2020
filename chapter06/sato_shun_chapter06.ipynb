{
 "cells": [
  {
   "cell_type": "code",
   "execution_count": 1,
   "metadata": {},
   "outputs": [
    {
     "name": "stdout",
     "output_type": "stream",
     "text": [
      "positive sentece 5331\n",
      "negative sentence 5331\n",
      "============================\n",
      "+1\tthe rock is destined to be the 21st century's new \" conan \" and that he's going to make a splash even greater than arnold schwarzenegger , jean-claud van damme or steven segal . \n",
      "+1\tthe gorgeously elaborate continuation of \" the lord of the rings \" trilogy is so huge that a column of words cannot adequately describe co-writer/director peter jackson's expanded vision of j . r . r . tolkien's middle-earth . \n",
      "+1\teffective but too-tepid biopic\n",
      "+1\tif you sometimes like to go to the movies to have fun , wasabi is a good place to start . \n",
      "+1\temerges as something rare , an issue movie that's so honest and keenly observed that it doesn't feel like one . \n",
      "============================\n",
      "-1\tit's loud and boring ; watching it is like being trapped at a bad rock concert . \n",
      "-1\tthere is so much plodding sensitivity . \n",
      "-1\tan unsatisfying hybrid of blair witch and typical stalk-and-slash fare , where the most conservative protagonist is always the last one living . \n",
      "+1\tthe sight of the spaceship on the launching pad is duly impressive in imax dimensions , as are shots of the astronauts floating in their cabins . \n",
      "+1\thas enough gun battles and throwaway humor to cover up the yawning chasm where the plot should be . \n"
     ]
    }
   ],
   "source": [
    "#2015年版 chapter 8\n",
    "#70#\n",
    "import codecs\n",
    "from sklearn.feature_extraction.text import TfidfVectorizer\n",
    "path_pos_data=\"data/rt-polaritydata/rt-polaritydata/rt-polarity.pos\"\n",
    "path_neg_data=\"data/rt-polaritydata/rt-polaritydata/rt-polarity.neg\"\n",
    "write_file=\"data/raw_sentiment.txt\"\n",
    "data_file=\"data/sentiment.txt\"\n",
    "decode = 'cp1252'\n",
    "\n",
    "with codecs.open(path_pos_data,\"r\",'cp1252') as pos,codecs.open(path_neg_data,\"r\",'cp1252') as neg,open(write_file,'w') as sentiment:\n",
    "    for one_line in pos:\n",
    "        sentiment.write(\"+1\\t\"+one_line)\n",
    "    for one_line in neg:\n",
    "        sentiment.write(\"-1\\t\"+one_line)\n",
    "\n",
    "with open(data_file) as check_len:\n",
    "    count_pos=0\n",
    "    count_neg=0\n",
    "    for sentence in check_len:\n",
    "        tag=sentence.split(\"\\t\")[0]\n",
    "        if tag==\"+1\":\n",
    "            count_pos+=1\n",
    "        elif tag==\"-1\":\n",
    "            count_neg+=1       \n",
    "\n",
    "print(\"positive sentece\",count_pos)\n",
    "print(\"negative sentence\",count_neg)\n",
    "print(\"============================\")\n",
    "#gshuf raw_sentiment.txt > sentiment.txt  make suhuffle data\n",
    "!head -n 5 data/raw_sentiment.txt\n",
    "print(\"============================\")\n",
    "!head -n 5 data/sentiment.txt"
   ]
  },
  {
   "cell_type": "code",
   "execution_count": 2,
   "metadata": {},
   "outputs": [
    {
     "name": "stdout",
     "output_type": "stream",
     "text": [
      "length of stop words list = 318\n",
      "Stop words list ['am', 'might', 'all', 'onto', 'amongst', 'where', 'last', 'being', 'full', 'whence', 'cant', 'we', 'been', 'nor', 'along', 'seemed', 'would', 'couldnt', 'that', 'the', 'was', 'becomes', 'hereby', 'our', 'eg', 'after', 'seem', 'fifteen', 'yours', 'hereupon', 'else', 'meanwhile']\n"
     ]
    },
    {
     "data": {
      "text/plain": [
       "True"
      ]
     },
     "execution_count": 2,
     "metadata": {},
     "output_type": "execute_result"
    }
   ],
   "source": [
    "#71#\n",
    "from sklearn.feature_extraction.text import ENGLISH_STOP_WORDS,CountVectorizer\n",
    "print(\"length of stop words list =\",len(ENGLISH_STOP_WORDS))\n",
    "print(\"Stop words list\",list(ENGLISH_STOP_WORDS)[::10])\n",
    "Stop_words=set(ENGLISH_STOP_WORDS)\n",
    "\n",
    "\n",
    "\n",
    "def check_stop_words(sentence):\n",
    "    vect=CountVectorizer()\n",
    "    vect.fit(list(sentence.split(\"\\n\")))\n",
    "    words_dic_of_sentence=vect.vocabulary_\n",
    "    intersection_keys = words_dic_of_sentence.keys() & Stop_words  \n",
    "    #intersection_keys has stop words included in a sentence\n",
    "    if len(intersection_keys) > 1:\n",
    "        return True\n",
    "    else:\n",
    "        return False\n",
    "\n",
    "\n",
    "check_stop_words(\"the sight of the spaceship on the launching pad is duly impressive in imax dimensions , as are shots of the astronauts floating in their cabins . \")\n"
   ]
  },
  {
   "cell_type": "code",
   "execution_count": 3,
   "metadata": {},
   "outputs": [
    {
     "name": "stdout",
     "output_type": "stream",
     "text": [
      "vector 1 [0.35355339 0.35355339 0.35355339 0.35355339 0.35355339 0.\n",
      " 0.35355339 0.         0.35355339 0.35355339]\n",
      "vector 2 [0.         0.         0.         0.         0.         0.70710678\n",
      " 0.         0.70710678 0.         0.        ]\n",
      "{'gun': 3, 'battles': 0, 'throwaway': 8, 'humor': 4, 'cover': 2, 'yawning': 9, 'chasm': 1, 'plot': 6, 'plodding': 5, 'sensitivity': 7}\n"
     ]
    }
   ],
   "source": [
    "#easy example for TfidfVectorizer\n",
    "sents_list=[]\n",
    "\n",
    "sentences=[\"+1\thas enough gun battles and throwaway humor to cover up the yawning chasm where the plot should be . \"\n",
    "              ,\"-1\tthere is so much plodding sensitivity . \"]\n",
    "for one_sentence in sentences:\n",
    "        sentence=one_sentence.split(\"\\t\")[1]\n",
    "        sents_list.append(sentence)\n",
    "\n",
    "vec_tfidf = TfidfVectorizer(stop_words=list(Stop_words))\n",
    "#We can specify stop_wrods list by argument\n",
    "text_vec = vec_tfidf.fit_transform(sents_list)   \n",
    "text_vector_sparse = text_vec.toarray() \n",
    "\n",
    "#visualize\n",
    "print(\"vector 1\",text_vector_sparse[0])\n",
    "print(\"vector 2\",text_vector_sparse[1]) #plodding and sensitivity become vector\n",
    "\n",
    "print(vec_tfidf.vocabulary_)\n",
    "\n"
   ]
  },
  {
   "cell_type": "code",
   "execution_count": 4,
   "metadata": {},
   "outputs": [
    {
     "name": "stdout",
     "output_type": "stream",
     "text": [
      "vector shape (10662, 18041)\n"
     ]
    }
   ],
   "source": [
    "#72#\n",
    "from sklearn.feature_extraction.text import TfidfVectorizer\n",
    "import numpy as np\n",
    "\n",
    "# use sklearn Tfidf module and make sparse vector as feature\n",
    "\n",
    "with open(data_file) as sentences:\n",
    "    sents_list = []\n",
    "    label_list = []\n",
    "    for one_sentence in sentences:\n",
    "        sentence = one_sentence.split(\"\\t\")[1]\n",
    "        label = one_sentence.split(\"\\t\")[0]\n",
    "        sents_list.append(sentence)\n",
    "        label_list.append(label)\n",
    "\n",
    "    vec_tfidf = TfidfVectorizer(stop_words=list(Stop_words))\n",
    "    # We can specify stop_wrods list by argument\n",
    "    text_vec = vec_tfidf.fit_transform(sents_list)   \n",
    "    text_vector_sparse = text_vec.toarray() # make tf-idf vec  (very sparse!!)\n",
    "\n",
    "print(\"vector shape\",text_vector_sparse.shape)\n",
    "\n",
    "\n",
    "\n"
   ]
  },
  {
   "cell_type": "code",
   "execution_count": 5,
   "metadata": {},
   "outputs": [
    {
     "name": "stdout",
     "output_type": "stream",
     "text": [
      "Train set acc score = 0.9046145188519977\n"
     ]
    }
   ],
   "source": [
    "# 73\n",
    "import warnings\n",
    "from sklearn.linear_model import LogisticRegression\n",
    "\n",
    "\n",
    "warnings.simplefilter('ignore')\n",
    "train_x = text_vector_sparse\n",
    "train_y = np.array(label_list)\n",
    "\n",
    "model = LogisticRegression()\n",
    "results = model.fit(train_x,train_y)\n",
    "\n",
    "print(\"Train set acc score =\",results.score(train_x,train_y))"
   ]
  },
  {
   "cell_type": "code",
   "execution_count": 6,
   "metadata": {},
   "outputs": [
    {
     "name": "stdout",
     "output_type": "stream",
     "text": [
      "[[0.04913851 0.95086149]\n",
      " [0.26489672 0.73510328]\n",
      " [0.498881   0.501119  ]\n",
      " ...\n",
      " [0.21260802 0.78739198]\n",
      " [0.76046863 0.23953137]\n",
      " [0.66698872 0.33301128]] (10662, 2)\n",
      "['-1' '-1' '-1' ... '-1' '+1' '+1']\n"
     ]
    }
   ],
   "source": [
    "# 74\n",
    "probs = model.predict_proba(train_x)\n",
    "pred = model.predict(train_x)\n",
    "\n",
    "print(probs,probs.shape)\n",
    "print(pred)\n",
    "\n",
    "# first proba = \"+1\"\n",
    "# second proba = \"-1\"\n"
   ]
  },
  {
   "cell_type": "code",
   "execution_count": 7,
   "metadata": {},
   "outputs": [
    {
     "name": "stdout",
     "output_type": "stream",
     "text": [
      "[[ 0.13290283  0.17617355  0.18759771 ... -0.14357369  0.09578874\n",
      "   0.13241078]]\n",
      "(1, 18041)\n",
      "=============================\n",
      "top_feature_list\n",
      " ['performances', 'entertaining', 'enjoyable', 'heart', 'best', 'fun', 'powerful', 'solid', 'cinema', 'wonderful']\n",
      "\n",
      "worst_feature_list\n",
      " ['tries', 'script', 'flat', 'tv', 'feels', 'fails', 'worst', 'boring', 'dull', 'bad']\n"
     ]
    }
   ],
   "source": [
    "# 75\n",
    "param = model.coef_\n",
    "print(param)\n",
    "print(param.shape) #vocaburaly dimension weights\n",
    "print(\"=============================\")\n",
    "\n",
    "decend_index = np.argsort(param)\n",
    "vocab_sorted = sorted(vec_tfidf.vocabulary_.items(), key = lambda x:x[1])\n",
    "\n",
    "top_feature_list = [vocab_sorted[i][0] for i in decend_index[0][:10]]\n",
    "print(\"top_feature_list\\n\",top_feature_list)\n",
    "print()\n",
    "worst_feature_list = [vocab_sorted[i][0] for i in decend_index[0][-10:]]\n",
    "print(\"worst_feature_list\\n\",worst_feature_list)\n",
    "\n",
    "\n"
   ]
  },
  {
   "cell_type": "code",
   "execution_count": 8,
   "metadata": {},
   "outputs": [
    {
     "name": "stdout",
     "output_type": "stream",
     "text": [
      "-1\t-1\n",
      "-1\t-1\n",
      "-1\t-1\n",
      "+1\t+1\n",
      "+1\t-1\n"
     ]
    }
   ],
   "source": [
    "# 76\n",
    "import csv\n",
    "results_write=\"results/pred_and_gold.txt\"\n",
    "\n",
    "\n",
    "train_y = np.array(label_list)\n",
    "pred = model.predict(train_x)\n",
    "with open(results_write,\"w\") as write_file:\n",
    "    for gold_label,pred_label in zip(train_y,pred):\n",
    "        write_file.write(\"{}\\t{}\\n\".format(str(gold_label), str(pred_label)))\n",
    "        \n",
    "!head -n 5 results/pred_and_gold.txt\n"
   ]
  },
  {
   "cell_type": "code",
   "execution_count": 9,
   "metadata": {},
   "outputs": [
    {
     "name": "stdout",
     "output_type": "stream",
     "text": [
      "[[4837  494]\n",
      " [ 523 4808]]\n",
      "accuracy_score 0.9046145188519977\n",
      "recall= 0.9018945788782592\n",
      "precision_score= 0.9068276122218031\n",
      "f1_score= 0.9043543684755007\n"
     ]
    }
   ],
   "source": [
    "#77\n",
    "from sklearn.metrics import confusion_matrix, accuracy_score,precision_score,recall_score,f1_score\n",
    "\n",
    "\n",
    "train_y = [1 if i == \"+1\" else 0  for i in label_list]\n",
    "pred = model.predict(train_x)\n",
    "pred = [1 if i == \"+1\" else 0  for i in pred.tolist()]\n",
    "cm = confusion_matrix(train_y, pred)\n",
    "print(cm)\n",
    "\n",
    "#                Predicted\n",
    "#                  Negative  Positive\n",
    "# Actual Negative     TN        FP\n",
    "#        Positive     FN        TP\n",
    "\n",
    "print(\"accuracy_score\",accuracy_score(train_y,pred))    #(TN+TP)/(TN+FP+FN+TP)\n",
    "print(\"recall=\",recall_score(train_y,pred))             #TP/(TP+FP)\n",
    "print(\"precision_score=\",precision_score(train_y,pred)) #TP/(TP+FN)\n",
    "print(\"f1_score=\",f1_score(train_y,pred))               #2*TP/(2*TP+FP+FN)\n"
   ]
  },
  {
   "cell_type": "code",
   "execution_count": 10,
   "metadata": {},
   "outputs": [
    {
     "name": "stdout",
     "output_type": "stream",
     "text": [
      "None\n"
     ]
    }
   ],
   "source": [
    "import mglearn\n",
    "print(mglearn.plots.plot_grid_search_overview())\n",
    "#there are hyper parameter C in this model. So I use grid search for finding vest combination."
   ]
  },
  {
   "cell_type": "code",
   "execution_count": 11,
   "metadata": {},
   "outputs": [
    {
     "name": "stdout",
     "output_type": "stream",
     "text": [
      "Best cross-validation score: 0.7507327939969516\n",
      "Best parameters {'C': 1}\n",
      "Test set score: 0.7655883731833099\n"
     ]
    }
   ],
   "source": [
    "#78 logistic regression\n",
    "import warnings\n",
    "from sklearn.model_selection import train_test_split\n",
    "from sklearn.model_selection import GridSearchCV\n",
    "\n",
    "warnings.simplefilter('ignore')\n",
    "train_y = np.array(label_list)\n",
    "param_grid = {'C': [0.001,0.01,0.1,1,10]} #hyper parameter\n",
    "grid = GridSearchCV(LogisticRegression(),param_grid,cv=5)#cv is a number of split\n",
    "\n",
    "x_train, x_test, y_train, y_test = train_test_split(train_x,train_y,test_size=0.2,\n",
    "                                                    train_size=0.8,random_state=0)\n",
    "grid.fit(x_train,y_train)\n",
    "\n",
    "print(\"Best cross-validation score:\" ,grid.best_score_)\n",
    "print(\"Best parameters\",grid.best_params_)\n",
    "print(\"Test set score:\", grid.score(x_test,y_test))"
   ]
  },
  {
   "cell_type": "code",
   "execution_count": 12,
   "metadata": {},
   "outputs": [
    {
     "name": "stdout",
     "output_type": "stream",
     "text": [
      "Best cross-validation score: 0.749560323601829\n",
      "Best parameters {'C': 0.1}\n",
      "Test set score: 0.7674636661978435\n"
     ]
    }
   ],
   "source": [
    "#linearSVM\n",
    "from sklearn.model_selection import train_test_split\n",
    "from sklearn.model_selection import GridSearchCV\n",
    "from sklearn.svm import LinearSVC\n",
    "\n",
    "#gamma is parameter of kernel \n",
    "#C is parameter of reguralrize\n",
    "#kernelSVM is too heavy so I use Linear SVM\n",
    "#5*5 = 25 \n",
    "\n",
    "param_grid = {'C': [0.001,0.01,0.1,1,10]} #hyper parameter\n",
    "grid = GridSearchCV(LinearSVC(),param_grid,cv=5)#cv is a number of split\n",
    "\n",
    "x_train, x_test, y_train, y_test = train_test_split(train_x,train_y,test_size=0.2,\n",
    "                                                    train_size=0.8,random_state=0)\n",
    "grid.fit(x_train,y_train)\n",
    "\n",
    "print(\"Best cross-validation score:\", grid.best_score_)\n",
    "print(\"Best parameters\", grid.best_params_)\n",
    "print(\"Test set score:\", grid.score(x_test,y_test))"
   ]
  },
  {
   "cell_type": "code",
   "execution_count": 15,
   "metadata": {},
   "outputs": [
    {
     "name": "stdout",
     "output_type": "stream",
     "text": [
      "Test set score: 0.6254826254826255\n"
     ]
    }
   ],
   "source": [
    "#Naive Bayes\n",
    "from sklearn.naive_bayes import GaussianNB\n",
    "x_train, x_test, y_train, y_test = train_test_split(train_x,train_y,test_size=0.2,\n",
    "                                                    train_size=0.8,random_state=0)\n",
    "model= GaussianNB()\n",
    "y_train = [1 if i == \"+1\" else 0  for i in y_train]\n",
    "y_test = [1 if i == \"+1\" else 0  for i in y_test]\n",
    "y_pred = model.fit(x_train, y_train).predict(x_test)\n",
    "print(\"Test set score:\",precision_score(y_test,y_pred))\n",
    "#低そう"
   ]
  },
  {
   "cell_type": "code",
   "execution_count": 39,
   "metadata": {},
   "outputs": [
    {
     "data": {
      "text/plain": [
       "Text(0, 0.5, 'Recall')"
      ]
     },
     "execution_count": 39,
     "metadata": {},
     "output_type": "execute_result"
    },
    {
     "data": {
      "image/png": "[encoded data removed]",
      "text/plain": [
       "<Figure size 432x288 with 1 Axes>"
      ]
     },
     "metadata": {
      "needs_background": "light"
     },
     "output_type": "display_data"
    }
   ],
   "source": [
    "#79\n",
    "from sklearn.metrics import precision_recall_curve\n",
    "from sklearn.model_selection import train_test_split\n",
    "import matplotlib.pyplot as plt\n",
    "\n",
    "x_train,x_test,y_train,y_test=train_test_split(train_x,train_y,test_size=0.2,\n",
    "                                               train_size=0.8,random_state=0)\n",
    "\n",
    "y_train = [1 if i == \"+1\" else 0  for i in y_train]\n",
    "y_test = [1 if i == \"+1\" else 0  for i in y_test]\n",
    "\n",
    "\n",
    "# print(len(y_test))\n",
    "# print((model.predict_proba(x_test)))\n",
    "probs = [x[1] for x in model.predict_proba(x_test).tolist()]\n",
    "\n",
    "model = LogisticRegression(C = 1).fit(x_train,y_train)\n",
    "precision,recall,thresholds = precision_recall_curve((y_test),probs)\n",
    "\n",
    "plt.plot(precision,recall,label=\"precision recall curve\")\n",
    "plt.xlabel(\"Precision\")\n",
    "plt.ylabel(\"Recall\")"
   ]
  }
 ],
 "metadata": {
  "kernelspec": {
   "display_name": "Python 3",
   "language": "python",
   "name": "python3"
  },
  "language_info": {
   "codemirror_mode": {
    "name": "ipython",
    "version": 3
   },
   "file_extension": ".py",
   "mimetype": "text/x-python",
   "name": "python",
   "nbconvert_exporter": "python",
   "pygments_lexer": "ipython3",
   "version": "3.7.3"
  }
 },
 "nbformat": 4,
 "nbformat_minor": 2
}

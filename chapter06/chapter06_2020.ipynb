{
 "cells": [
  {
   "cell_type": "markdown",
   "metadata": {},
   "source": [
    "## 50. データの入手・整形"
   ]
  },
  {
   "cell_type": "markdown",
   "metadata": {},
   "source": [
    "News Aggregator Data Setをダウンロードし、以下の要領で学習データ（train.txt），検証データ（valid.txt），評価データ（test.txt）を作成せよ．\n",
    "\n",
    "ダウンロードしたzipファイルを解凍し，readme.txtの説明を読む．\n",
    "情報源（publisher）が”Reuters”, “Huffington Post”, “Businessweek”, “Contactmusic.com”, “Daily Mail”の事例（記事）のみを抽出する．\n",
    "抽出された事例をランダムに並び替える．\n",
    "抽出された事例の80%を学習データ，残りの10%ずつを検証データと評価データに分割し，それぞれtrain.txt，valid.txt，test.txtというファイル名で保存する．ファイルには，１行に１事例を書き出すこととし，カテゴリ名と記事見出しのタブ区切り形式とせよ（このファイルは後に問題70で再利用する）．\n",
    "学習データと評価データを作成したら，各カテゴリの事例数を確認せよ．"
   ]
  },
  {
   "cell_type": "code",
   "execution_count": 2,
   "metadata": {},
   "outputs": [],
   "source": [
    "import os \n",
    "cu_path = os.getcwd()\n",
    "data_path = os.path.join(cu_path,\"data\",\"NewsAggregatorDataset\",\"newsCorpora.csv\")\n",
    "data_write_path = os.path.join(cu_path,\"data\",\"full_data.txt\")\n",
    "\n",
    "publisher_list = [\"Reuters\", \"Huffington Post\", \"Businessweek\", \"Contactmusic.com\", \"Daily Mail\"]\n",
    "\n",
    "\n",
    "with open(data_path) as read_file,open(data_write_path,\"w\") as write_file:\n",
    "    for line in read_file:\n",
    "        line = line.split(\"\\t\")\n",
    "        if line[3] in publisher_list:\n",
    "            write_file.write(line[1]+\"\\t\"+line[4]+\"\\n\")\n",
    "\n"
   ]
  },
  {
   "cell_type": "code",
   "execution_count": 3,
   "metadata": {},
   "outputs": [],
   "source": [
    "#shuflle\n",
    "#!gshuf data/full_data.txt > data/full_data_shuf.txt"
   ]
  },
  {
   "cell_type": "code",
   "execution_count": 5,
   "metadata": {},
   "outputs": [
    {
     "name": "stdout",
     "output_type": "stream",
     "text": [
      "   13356 data/full_data_shuf.txt\n"
     ]
    }
   ],
   "source": [
    "!wc -l data/full_data_shuf.txt\n",
    "!head -n 10648 data/full_data_shuf.txt > data/train.txt\n",
    "!sed -n 10649,11984p data/full_data_shuf.txt > data/dev.txt\n",
    "!sed -n 11985,13356p data/full_data_shuf.txt > data/test.txt"
   ]
  },
  {
   "cell_type": "markdown",
   "metadata": {},
   "source": [
    "## 51. 特徴量抽出"
   ]
  },
  {
   "cell_type": "markdown",
   "metadata": {},
   "source": [
    "学習データ，検証データ，評価データから特徴量を抽出し，それぞれtrain.feature.txt，valid.feature.txt，test.feature.txtというファイル名で保存せよ． なお，カテゴリ分類に有用そうな特徴量は各自で自由に設計せよ．記事の見出しを単語列に変換したものが最低限のベースラインとなるであろう．\n"
   ]
  },
  {
   "cell_type": "code",
   "execution_count": 7,
   "metadata": {},
   "outputs": [],
   "source": [
    "from gensim.models import KeyedVectors\n",
    "path='data/GoogleNews-vectors-negative300.bin'\n",
    "model=KeyedVectors.load_word2vec_format(path,binary=True)"
   ]
  },
  {
   "cell_type": "code",
   "execution_count": 9,
   "metadata": {},
   "outputs": [],
   "source": [
    "import numpy as np\n",
    "import csv\n",
    "\n",
    "#word2vecの平均で作った文ベクトルを特徴量にする\n",
    "#train.feature.txt => train_X,train_yのcsvファイルに分割\n",
    "name_list = [\"train\",\"dev\",\"test\"]\n",
    "label_list = [\"b\",\"t\",\"e\",\"m\"]\n",
    "cu_path = os.getcwd()\n",
    "for name in name_list:\n",
    "    read_path = os.path.join(cu_path,\"data\",name+\".txt\")\n",
    "    write_path_X = os.path.join(cu_path,\"data\",name+\"_X.csv\")\n",
    "    write_path_Y = os.path.join(cu_path,\"data\",name+\"_y.csv\")\n",
    "    \n",
    "    length = sum(1 for line in open(read_path))\n",
    "    sent_vector = np.zeros((length,300))\n",
    "    label_vector = np.zeros((length,1))\n",
    "\n",
    "\n",
    "    with open(read_path) as read_file,open(write_path_X,\"w\") as write_file_X, open(write_path_Y,\"w\") as write_file_Y:\n",
    "      \n",
    "        for i,line in enumerate(read_file):\n",
    "            sent,category=line.strip().split(\"\\t\")\n",
    "#             print(sent)\n",
    "#             print(sent_vector)\n",
    "\n",
    "            #process for sentence\n",
    "            sent = sent.replace(\".\",\" .\").replace(\",\",\" ,\")\\\n",
    "                       .replace(\"!\",\" !\").replace(\";\",\" ;\").replace(\":\",\" :\")\\\n",
    "                       .replace('\"','').replace(\"'\",\"\").replace(\"?\",\" ?\").split()\n",
    "        \n",
    "            count = 0\n",
    "            sent_vector_memory = 0\n",
    "            for word in sent:\n",
    "                if (word in model.vocab):\n",
    "                    count +=1\n",
    "                    sent_vector_memory +=  model[word]\n",
    "                    \n",
    "            sent_vector[i] = sent_vector_memory/count\n",
    "            \n",
    "            #process for label\n",
    "            label_vector[i]=int(label_list.index(category)) \n",
    "\n",
    "        writer_X=csv.writer(write_file_X)\n",
    "        writer_X.writerows(sent_vector)\n",
    "        \n",
    "        writer_Y=csv.writer(write_file_Y)\n",
    "        writer_Y.writerows(label_vector)\n",
    "            \n",
    "\n"
   ]
  },
  {
   "cell_type": "markdown",
   "metadata": {},
   "source": [
    "## 52. 学習"
   ]
  },
  {
   "cell_type": "markdown",
   "metadata": {},
   "source": [
    "51で構築した学習データを用いて，ロジスティック回帰モデルを学習せよ"
   ]
  },
  {
   "cell_type": "code",
   "execution_count": 14,
   "metadata": {},
   "outputs": [
    {
     "name": "stdout",
     "output_type": "stream",
     "text": [
      "Train set acc score = 0.9174492862509391\n"
     ]
    }
   ],
   "source": [
    "import warnings\n",
    "from sklearn.linear_model import LogisticRegression\n",
    "\n",
    "\n",
    "warnings.simplefilter('ignore')\n",
    "train_X = np.loadtxt('data/train_X.csv',delimiter=\",\")\n",
    "train_y = np.loadtxt('data/train_y.csv')\n",
    "\n",
    "model = LogisticRegression()\n",
    "results = model.fit(train_X,train_y)\n",
    "\n",
    "print(\"Train set acc score =\",results.score(train_X,train_y))"
   ]
  },
  {
   "cell_type": "markdown",
   "metadata": {},
   "source": [
    "## 53. 予測"
   ]
  },
  {
   "cell_type": "markdown",
   "metadata": {},
   "source": [
    "52で学習したロジスティック回帰モデルを用い，与えられた記事見出しからカテゴリとその予測確率を計算するプログラムを実装せよ．"
   ]
  },
  {
   "cell_type": "code",
   "execution_count": 17,
   "metadata": {},
   "outputs": [
    {
     "name": "stdout",
     "output_type": "stream",
     "text": [
      "[[3.61930590e-03 1.91934529e-03 9.93533518e-01 9.27830369e-04]\n",
      " [9.99135125e-01 3.14511819e-04 2.78677313e-04 2.71685932e-04]\n",
      " [9.90103832e-01 4.95141146e-03 3.31150674e-03 1.63325011e-03]\n",
      " ...\n",
      " [9.67639208e-01 3.16680085e-02 3.69995442e-04 3.22788319e-04]\n",
      " [1.10918537e-03 6.04106019e-03 9.92060141e-01 7.89613895e-04]\n",
      " [6.59020064e-03 8.83670377e-03 9.70546585e-01 1.40265109e-02]] (10648, 4)\n",
      "[2. 0. 0. ... 0. 2. 2.]\n"
     ]
    }
   ],
   "source": [
    "probs = model.predict_proba(train_x)\n",
    "pred = model.predict(train_x)\n",
    "\n",
    "print(probs, probs.shape)\n",
    "print(pred)"
   ]
  },
  {
   "cell_type": "markdown",
   "metadata": {},
   "source": [
    "## 54. 正解率の計測"
   ]
  },
  {
   "cell_type": "markdown",
   "metadata": {},
   "source": [
    "52で学習したロジスティック回帰モデルの正解率を，学習データおよび評価データ上で計測せよ．"
   ]
  },
  {
   "cell_type": "code",
   "execution_count": 20,
   "metadata": {},
   "outputs": [
    {
     "name": "stdout",
     "output_type": "stream",
     "text": [
      "train data acc: 0.9174492862509391\n",
      "test data acc: 0.8965014577259475\n"
     ]
    }
   ],
   "source": [
    "from sklearn.metrics import accuracy_score\n",
    "\n",
    "test_X = np.loadtxt('data/test_X.csv',delimiter=\",\")\n",
    "test_y = np.loadtxt('data/test_y.csv')\n",
    "\n",
    "pred = model.predict(train_X)\n",
    "print(\"train data acc:\" ,accuracy_score(pred, train_y))\n",
    "\n",
    "pred = model.predict(test_X)\n",
    "print(\"test data acc:\" ,accuracy_score(pred, test_y))"
   ]
  },
  {
   "cell_type": "markdown",
   "metadata": {},
   "source": [
    "## 55. 混同行列の作成"
   ]
  },
  {
   "cell_type": "markdown",
   "metadata": {},
   "source": [
    "52で学習したロジスティック回帰モデルの混同行列（confusion matrix）を，学習データおよび評価データ上で作成せよ．\n",
    "\n"
   ]
  },
  {
   "cell_type": "code",
   "execution_count": 22,
   "metadata": {},
   "outputs": [
    {
     "name": "stdout",
     "output_type": "stream",
     "text": [
      "[[530  31  14   8]\n",
      " [ 19  96   7   5]\n",
      " [ 21  12 545  14]\n",
      " [  6   0   5  59]]\n"
     ]
    }
   ],
   "source": [
    "from sklearn.metrics import confusion_matrix\n",
    "\n",
    "pred = model.predict(test_X)\n",
    "c_matrix = confusion_matrix(pred, test_y)\n",
    "\n",
    "print(c_matrix)"
   ]
  },
  {
   "cell_type": "markdown",
   "metadata": {},
   "source": [
    "## 56. 適合率，再現率，F1スコアの計測"
   ]
  },
  {
   "cell_type": "markdown",
   "metadata": {},
   "source": [
    "52で学習したロジスティック回帰モデルの適合率，再現率，F1スコアを，評価データ上で計測せよ．カテゴリごとに適合率，再現率，F1スコアを求め，カテゴリごとの性能をマイクロ平均（micro-average）とマクロ平均（macro-average）で統合せよ．"
   ]
  },
  {
   "cell_type": "code",
   "execution_count": 30,
   "metadata": {},
   "outputs": [
    {
     "name": "stdout",
     "output_type": "stream",
     "text": [
      "\n",
      "precision [0.92013889 0.69064748 0.95446585 0.68604651]\n",
      "recall [0.90909091 0.75590551 0.92060811 0.84285714]\n",
      "f1 [0.91458154 0.72180451 0.9372313  0.75641026]\n",
      "\n",
      "macro precision 0.8128246829795561\n",
      "macro  recall 0.857115417966796\n",
      "macro f1 0.8325069004653689\n",
      "\n",
      "micro precision 0.8965014577259475\n",
      "micro  recall 0.8965014577259475\n",
      "micro f1 0.8965014577259475\n"
     ]
    }
   ],
   "source": [
    "from sklearn.metrics import precision_score,recall_score,f1_score\n",
    "\n",
    "pred = model.predict(test_X)\n",
    "\n",
    "#None\n",
    "print() \n",
    "print(\"precision\", precision_score(pred, test_y, average = None))\n",
    "print(\"recall\", recall_score(pred, test_y, average = None))\n",
    "print(\"f1\", f1_score(pred, test_y, average = None))\n",
    "\n",
    "\n",
    "#macro\n",
    "print()\n",
    "print(\"macro precision\", precision_score(pred,test_y,average = \"macro\"))\n",
    "print(\"macro  recall\", recall_score(pred,test_y,average = \"macro\"))\n",
    "print(\"macro f1\", f1_score(pred,test_y,average = \"macro\"))\n",
    "\n",
    "#micro\n",
    "print()\n",
    "print(\"micro precision\", precision_score(pred, test_y, average = \"micro\"))\n",
    "print(\"micro  recall\", recall_score(pred, test_y, average = \"micro\"))\n",
    "print(\"micro f1\", f1_score(pred, test_y, average = \"micro\"))"
   ]
  },
  {
   "cell_type": "markdown",
   "metadata": {},
   "source": [
    "## 57. 特徴量の重みの確認"
   ]
  },
  {
   "cell_type": "markdown",
   "metadata": {},
   "source": [
    "52で学習したロジスティック回帰モデルの中で，重みの高い特徴量トップ10と，重みの低い特徴量トップ10を確認せよ"
   ]
  },
  {
   "cell_type": "code",
   "execution_count": 38,
   "metadata": {},
   "outputs": [
    {
     "name": "stdout",
     "output_type": "stream",
     "text": [
      "(4, 300)\n",
      "=============================\n",
      "[[222 196 133 ... 155  42 213]\n",
      " [250 101 106 ...  21  80  28]\n",
      " [ 98 260  58 ... 204 207 133]\n",
      " [127  42 284 ...  23 237  59]]\n",
      "top_feature_list\n",
      " None\n",
      "[[222 196 133 ... 155  42 213]\n",
      " [250 101 106 ...  21  80  28]\n",
      " [ 98 260  58 ... 204 207 133]\n",
      " [127  42 284 ...  23 237  59]]\n",
      "worst_feature_list\n",
      " None\n"
     ]
    }
   ],
   "source": [
    "#特徴量が非言語なので単語ベクトルのIDを出す\n",
    "param = model.coef_\n",
    "# print(param)\n",
    "print(param.shape) #vocaburaly dimension weights\n",
    "print(\"=============================\")\n",
    "\n",
    "decend_index = np.argsort(param)\n",
    "print(\"top_feature_list\\n\",print(decend_index[-10:]))\n",
    "print(\"worst_feature_list\\n\",print(decend_index[:10]))\n",
    "\n"
   ]
  },
  {
   "cell_type": "markdown",
   "metadata": {},
   "source": [
    "# 58. 正則化パラメータの変更"
   ]
  },
  {
   "cell_type": "markdown",
   "metadata": {},
   "source": [
    "ロジスティック回帰モデルを学習するとき，正則化パラメータを調整することで，学習時の過学習（overfitting）の度合いを制御できる．異なる正則化パラメータでロジスティック回帰モデルを学習し，学習データ，検証データ，および評価データ上の正解率を求めよ．実験の結果は，正則化パラメータを横軸，正解率を縦軸としたグラフにまとめよ．"
   ]
  },
  {
   "cell_type": "code",
   "execution_count": 69,
   "metadata": {},
   "outputs": [],
   "source": [
    "C_list = [10**(i-3) for i in range(10)]\n",
    "C_list = np.array(C_list)\n",
    "acc_list = np.zeros((3,len(C_list)))\n",
    "#0:train 1:dev 2:test \n",
    "\n",
    "dev_X = np.loadtxt('data/dev_X.csv',delimiter=\",\")\n",
    "dev_y = np.loadtxt('data/dev_y.csv')\n",
    "\n",
    "for i,C_num in enumerate(C_list):\n",
    "    model = LogisticRegression(C=C_num,random_state=0)\n",
    "    model.fit(train_X,train_y)\n",
    "    \n",
    "    pred = model.predict(train_X)\n",
    "    acc_list[0][i] = accuracy_score(pred,train_y)\n",
    "    \n",
    "    pred = model.predict(dev_X)\n",
    "    acc_list[1][i] = accuracy_score(pred,dev_y)\n",
    "    \n",
    "    pred = model.predict(test_X)\n",
    "    acc_list[2][i] = accuracy_score(pred,test_y)\n",
    "    \n",
    "\n"
   ]
  },
  {
   "cell_type": "code",
   "execution_count": 71,
   "metadata": {},
   "outputs": [
    {
     "name": "stdout",
     "output_type": "stream",
     "text": [
      "(10,)\n"
     ]
    },
    {
     "data": {
      "image/png": "[encoded data removed]",
      "text/plain": [
       "<Figure size 432x288 with 1 Axes>"
      ]
     },
     "metadata": {
      "needs_background": "light"
     },
     "output_type": "display_data"
    }
   ],
   "source": [
    "import matplotlib.pyplot as plt\n",
    "\n",
    "#1~100までのCに対するaccの変化\n",
    "print(acc_list[1].shape)\n",
    "plt.plot(C_list[1:],acc_list[0][1:], label = \"train\")\n",
    "plt.plot(C_list[1:],acc_list[1][1:], label = \"dev\")\n",
    "plt.plot(C_list[1:],acc_list[2][1:], label = \"test\")\n",
    "plt.legend(bbox_to_anchor=(1, 0.85), loc='upper right', borderaxespad=0, fontsize=14)\n",
    "plt.xlabel(\"C value\")\n",
    "plt.ylabel(\"acc of test data\")\n",
    "plt.xscale('log')\n",
    "plt.show()"
   ]
  },
  {
   "cell_type": "markdown",
   "metadata": {},
   "source": [
    "## 59. ハイパーパラメータの探索"
   ]
  },
  {
   "cell_type": "markdown",
   "metadata": {},
   "source": [
    "学習アルゴリズムや学習パラメータを変えながら，カテゴリ分類モデルを学習せよ．検証データ上の正解率が最も高くなる学習アルゴリズム・パラメータを求めよ．また，その学習アルゴリズム・パラメータを用いたときの評価データ上の正解率を求めよ．"
   ]
  },
  {
   "cell_type": "code",
   "execution_count": 78,
   "metadata": {},
   "outputs": [],
   "source": [
    "#data\n",
    "train_X = np.loadtxt('data/train_X.csv',delimiter=\",\")\n",
    "train_y = np.loadtxt('data/train_y.csv')\n",
    "dev_X = np.loadtxt('data/dev_X.csv',delimiter=\",\")\n",
    "dev_y = np.loadtxt('data/dev_y.csv')\n",
    "test_X = np.loadtxt('data/test_X.csv',delimiter=\",\")\n",
    "test_y = np.loadtxt('data/test_y.csv')"
   ]
  },
  {
   "cell_type": "code",
   "execution_count": 108,
   "metadata": {},
   "outputs": [
    {
     "name": "stdout",
     "output_type": "stream",
     "text": [
      "best acc on dev 0.8982035928143712\n",
      "best C 1.0\n"
     ]
    },
    {
     "data": {
      "image/png": "[encoded data removed]",
      "text/plain": [
       "<Figure size 432x288 with 1 Axes>"
      ]
     },
     "metadata": {
      "needs_background": "light"
     },
     "output_type": "display_data"
    },
    {
     "name": "stdout",
     "output_type": "stream",
     "text": [
      "best acc on dev 0.8989520958083832\n",
      "best C 1.0\n"
     ]
    },
    {
     "data": {
      "image/png": "[encoded data removed]",
      "text/plain": [
       "<Figure size 432x288 with 1 Axes>"
      ]
     },
     "metadata": {
      "needs_background": "light"
     },
     "output_type": "display_data"
    }
   ],
   "source": [
    "from sklearn.svm import LinearSVC\n",
    "\n",
    "#SVC,LogisticRegression\n",
    "models = [LinearSVC,LogisticRegression]\n",
    "C_list = [10**(i-3) for i in range(6)]\n",
    "C_list = np.array(C_list)\n",
    "\n",
    "for model_name in models:\n",
    "    acc_list = np.zeros((2,len(C_list)))\n",
    "    for i,C_num in enumerate(C_list):\n",
    "        model = model_name(C=C_num,random_state=0)\n",
    "        model.fit(train_X,train_y)\n",
    "\n",
    "        pred = model.predict(train_X)\n",
    "        acc_list[0][i] = accuracy_score(pred,train_y)\n",
    "\n",
    "        pred = model.predict(dev_X)\n",
    "        acc_list[1][i] = accuracy_score(pred,dev_y)\n",
    "    \n",
    "    max_acc = np.max(acc_list[1])\n",
    "    print(\"best acc on dev\", max_acc)\n",
    "    print(\"best C\", C_list[np.argmax(acc_list[1])])\n",
    "\n",
    "    plt.plot(C_list[1:],acc_list[0][1:], label = \"train\")\n",
    "    plt.plot(C_list[1:],acc_list[1][1:], label = \"dev\")\n",
    "    plt.title(str(model_name))\n",
    "    plt.legend(bbox_to_anchor=(1, 0.85), loc='upper right', borderaxespad=0, fontsize=14)\n",
    "    plt.xlabel(\"C value\")\n",
    "    plt.ylabel(\"acc of test data\")\n",
    "    plt.xscale('log')\n",
    "    plt.show()\n",
    "\n",
    "\n",
    "    \n"
   ]
  },
  {
   "cell_type": "code",
   "execution_count": 87,
   "metadata": {},
   "outputs": [
    {
     "name": "stdout",
     "output_type": "stream",
     "text": [
      "0.8592814371257484\n"
     ]
    }
   ],
   "source": [
    "from sklearn.linear_model import Perceptron\n",
    "\n",
    "model = Perceptron()\n",
    "model.fit(train_X,train_y)\n",
    "pred = model.predict(dev_X)\n",
    "\n",
    "print(accuracy_score(pred,dev_y))"
   ]
  },
  {
   "cell_type": "code",
   "execution_count": 105,
   "metadata": {},
   "outputs": [
    {
     "name": "stdout",
     "output_type": "stream",
     "text": [
      "0.8323353293413174\n"
     ]
    }
   ],
   "source": [
    "from sklearn.naive_bayes import GaussianNB\n",
    "\n",
    "model= GaussianNB()\n",
    "model.fit(train_X,train_y)\n",
    "pred = model.predict(dev_X)\n",
    "\n",
    "print(accuracy_score(pred,dev_y))"
   ]
  },
  {
   "cell_type": "code",
   "execution_count": null,
   "metadata": {},
   "outputs": [],
   "source": [
    "#DecisionTreeClassifier\n",
    "from sklearn.tree import  DecisionTreeClassifier\n",
    "\n",
    "\n",
    "Depth_list = np.arange(5,21,1)\n",
    "acc_list = np.zeros((2,len(Depth_list)))\n",
    "\n",
    "for i,depth_value in enumerate(Depth_list):\n",
    "    model = DecisionTreeClassifier(max_depth=depth_value,random_state=0,criterion='entropy')\n",
    "    model.fit(train_X,train_y)\n",
    "\n",
    "    pred = model.predict(train_X)\n",
    "    acc_list[0][i] = accuracy_score(pred,train_y)\n",
    "\n",
    "    pred = model.predict(dev_X)\n",
    "    acc_list[1][i] = accuracy_score(pred,dev_y)\n",
    "    "
   ]
  },
  {
   "cell_type": "code",
   "execution_count": 107,
   "metadata": {},
   "outputs": [
    {
     "name": "stdout",
     "output_type": "stream",
     "text": [
      "best acc on dev 0.7485029940119761\n",
      "best depth 8\n"
     ]
    },
    {
     "data": {
      "image/png": "[encoded data removed]",
      "text/plain": [
       "<Figure size 432x288 with 1 Axes>"
      ]
     },
     "metadata": {
      "needs_background": "light"
     },
     "output_type": "display_data"
    }
   ],
   "source": [
    "max_acc = np.max(acc_list[1])\n",
    "print(\"best acc on dev\", max_acc)\n",
    "print(\"best depth\", Depth_list[np.argmax(acc_list[1])])\n",
    "\n",
    "plt.plot(Depth_list,acc_list[0], label = \"train\")\n",
    "plt.plot(Depth_list,acc_list[1], label = \"dev\")\n",
    "plt.title(str(model_name))\n",
    "plt.legend(bbox_to_anchor=(1, 0.85), loc='upper right', borderaxespad=0, fontsize=14)\n",
    "plt.xlabel(\"depth value\")\n",
    "plt.ylabel(\"acc of test data\")\n",
    "plt.show()"
   ]
  },
  {
   "cell_type": "code",
   "execution_count": 109,
   "metadata": {},
   "outputs": [
    {
     "name": "stdout",
     "output_type": "stream",
     "text": [
      "0.8965014577259475\n"
     ]
    }
   ],
   "source": [
    "#test\n",
    "model = LogisticRegression(C=1.0)\n",
    "model.fit(train_X,train_y)\n",
    "pred = model.predict(test_X)\n",
    "\n",
    "print(accuracy_score(pred,test_y))"
   ]
  }
 ],
 "metadata": {
  "kernelspec": {
   "display_name": "Python 3",
   "language": "python",
   "name": "python3"
  },
  "language_info": {
   "codemirror_mode": {
    "name": "ipython",
    "version": 3
   },
   "file_extension": ".py",
   "mimetype": "text/x-python",
   "name": "python",
   "nbconvert_exporter": "python",
   "pygments_lexer": "ipython3",
   "version": "3.7.3"
  }
 },
 "nbformat": 4,
 "nbformat_minor": 2
}

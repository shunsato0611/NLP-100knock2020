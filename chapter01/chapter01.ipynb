{
 "cells": [
  {
   "cell_type": "markdown",
   "metadata": {},
   "source": [
    "## 00. 文字列の逆順"
   ]
  },
  {
   "cell_type": "markdown",
   "metadata": {},
   "source": [
    "文字列”stressed”の文字を逆に（末尾から先頭に向かって）並べた文字列を得よ．"
   ]
  },
  {
   "cell_type": "code",
   "execution_count": 3,
   "metadata": {},
   "outputs": [
    {
     "name": "stdout",
     "output_type": "stream",
     "text": [
      "desserts\n"
     ]
    }
   ],
   "source": [
    "data = \"stressed\"\n",
    "\n",
    "print(data[::-1])"
   ]
  },
  {
   "cell_type": "markdown",
   "metadata": {},
   "source": [
    "## 01. 「パタトクカシーー」"
   ]
  },
  {
   "cell_type": "markdown",
   "metadata": {},
   "source": [
    "「パタトクカシーー」という文字列の1,3,5,7文字目を取り出して連結した文字列を得よ．"
   ]
  },
  {
   "cell_type": "code",
   "execution_count": 7,
   "metadata": {},
   "outputs": [
    {
     "name": "stdout",
     "output_type": "stream",
     "text": [
      "タクシー\n"
     ]
    }
   ],
   "source": [
    "data = \"パタトクカシーー\"\n",
    "\n",
    "output = \"\"\n",
    "for i,item in enumerate(data):\n",
    "    if i%2 == 1:\n",
    "        output += item\n",
    "print(output)"
   ]
  },
  {
   "cell_type": "markdown",
   "metadata": {},
   "source": [
    "## 02. 「パトカー」＋「タクシー」＝「パタトクカシーー」"
   ]
  },
  {
   "cell_type": "markdown",
   "metadata": {},
   "source": [
    "「パトカー」＋「タクシー」の文字を先頭から交互に連結して文字列「パタトクカシーー」を得よ．\n"
   ]
  },
  {
   "cell_type": "code",
   "execution_count": 6,
   "metadata": {},
   "outputs": [
    {
     "name": "stdout",
     "output_type": "stream",
     "text": [
      "パタトクカシーー\n"
     ]
    }
   ],
   "source": [
    "data1 = \"パトカー\" \n",
    "data2 = \"タクシー\" \n",
    "\n",
    "output = \"\"\n",
    "for c1,c2 in zip(data1,data2):\n",
    "    output += c1+c2\n",
    "\n",
    "print(output)"
   ]
  },
  {
   "cell_type": "markdown",
   "metadata": {},
   "source": [
    "## 03. 円周率"
   ]
  },
  {
   "cell_type": "markdown",
   "metadata": {},
   "source": [
    "“Now I need a drink, alcoholic of course, after the heavy lectures involving quantum mechanics.”という文を単語に分解し，各単語の（アルファベットの）文字数を先頭から出現順に並べたリストを作成せよ．"
   ]
  },
  {
   "cell_type": "code",
   "execution_count": 10,
   "metadata": {},
   "outputs": [
    {
     "name": "stdout",
     "output_type": "stream",
     "text": [
      "[3, 1, 4, 1, 6, 9, 2, 7, 5, 3, 5, 8, 9, 7, 10]\n"
     ]
    }
   ],
   "source": [
    "data = \"Now I need a drink, alcoholic of course, after the heavy lectures involving quantum mechanics.\"\n",
    "\n",
    "order_list =  [len(item) for item in data.split()]\n",
    "\n",
    "print(order_list)"
   ]
  },
  {
   "cell_type": "markdown",
   "metadata": {},
   "source": [
    "## 04. 元素記号"
   ]
  },
  {
   "cell_type": "markdown",
   "metadata": {},
   "source": [
    "“Hi He Lied Because Boron Could Not Oxidize Fluorine. New Nations Might Also Sign Peace Security Clause. Arthur King Can.”という文を単語に分解し，1, 5, 6, 7, 8, 9, 15, 16, 19番目の単語は先頭の1文字，それ以外の単語は先頭の2文字を取り出し，取り出した文字列から単語の位置（先頭から何番目の単語か）への連想配列（辞書型もしくはマップ型）を作成せよ．"
   ]
  },
  {
   "cell_type": "code",
   "execution_count": 12,
   "metadata": {},
   "outputs": [
    {
     "name": "stdout",
     "output_type": "stream",
     "text": [
      "{0: 'Hi', 1: 'H', 2: 'Li', 3: 'Be', 4: 'Bo', 5: 'C', 6: 'N', 7: 'O', 8: 'F', 9: 'N', 10: 'Na', 11: 'Mi', 12: 'Al', 13: 'Si', 14: 'Pe', 15: 'S', 16: 'C', 17: 'Ar', 18: 'Ki', 19: 'C'}\n"
     ]
    }
   ],
   "source": [
    "data = \"Hi He Lied Because Boron Could Not Oxidize Fluorine. New Nations Might Also Sign Peace Security Clause. Arthur King Can\" \n",
    "\n",
    "one_list =  [1,5,6,7,8,9,15,16,19]\n",
    "\n",
    "order_map =  {}\n",
    "\n",
    "for i,item in enumerate(data.split()):\n",
    "    if i in one_list:\n",
    "        order_map[i] = item[0]\n",
    "    else:\n",
    "        order_map[i] = item[:2] \n",
    "\n",
    "print(order_map)"
   ]
  },
  {
   "cell_type": "markdown",
   "metadata": {},
   "source": [
    "## 05. n-gram"
   ]
  },
  {
   "cell_type": "markdown",
   "metadata": {},
   "source": [
    "与えられたシーケンス（文字列やリストなど）からn-gramを作る関数を作成せよ．この関数を用い，”I am an NLPer”という文から単語bi-gram，文字bi-gramを得よ"
   ]
  },
  {
   "cell_type": "code",
   "execution_count": 50,
   "metadata": {},
   "outputs": [
    {
     "name": "stdout",
     "output_type": "stream",
     "text": [
      "[['I', 'am'], ['am', 'an'], ['an', 'NLPer']]\n",
      "['Ia', 'am', 'ma', 'an', 'nN', 'NL', 'LP', 'Pe', 'er']\n"
     ]
    }
   ],
   "source": [
    "def n_gram_maker(mode,data,n):\n",
    "    if mode == \"word\":\n",
    "        data = data.split()\n",
    "        n_gram_list = [(data[i-n+1:i+1]) for i in range(n-1,len(data))]\n",
    "        \n",
    "    \n",
    "    elif mode== \"char\":\n",
    "        data = data.replace(' ','')\n",
    "        n_gram_list = [(data[i-n+1:i+1]) for i in range(n-1,len(data))]\n",
    "        \n",
    "    return n_gram_list\n",
    "        \n",
    "        \n",
    "data = \"I am an NLPer\"\n",
    "\n",
    "\n",
    "output = n_gram_maker(\"word\",data,2)\n",
    "print(output)\n",
    "\n",
    "output = n_gram_maker(\"char\",data,2)\n",
    "print(output)"
   ]
  },
  {
   "cell_type": "markdown",
   "metadata": {},
   "source": [
    "## 06. 集合"
   ]
  },
  {
   "cell_type": "markdown",
   "metadata": {},
   "source": [
    "“paraparaparadise”と”paragraph”に含まれる文字bi-gramの集合を，それぞれ, XとYとして求め，XとYの和集合，積集合，差集合を求めよ．さらに，’se’というbi-gramがXおよびYに含まれるかどうかを調べよ．"
   ]
  },
  {
   "cell_type": "code",
   "execution_count": 57,
   "metadata": {},
   "outputs": [
    {
     "name": "stdout",
     "output_type": "stream",
     "text": [
      "和集合 {'is', 'gr', 'ad', 'di', 'ap', 'ar', 'ph', 'ra', 'ag', 'pa', 'se'}\n",
      "差集合 {'ad', 'di', 'is', 'se'}\n",
      "積集合 {'ra', 'ap', 'ar', 'pa'}\n",
      "se in X is  True\n",
      "se in X is  False\n"
     ]
    }
   ],
   "source": [
    "data1 = \"paraparaparadise\"\n",
    "data2 = \"paragraph\"\n",
    "\n",
    "X = set(n_gram_maker(\"char\",data1,2))\n",
    "Y = set(n_gram_maker(\"char\",data2,2))\n",
    "\n",
    "\n",
    "#和集合\n",
    "s_union = X | Y\n",
    "print(\"和集合\",s_union)\n",
    "\n",
    "#差集合\n",
    "s_differ = X - Y\n",
    "print(\"差集合\",s_differ)\n",
    "\n",
    "#積集合\n",
    "s_intersection = X & Y\n",
    "print(\"積集合\",s_intersection)\n",
    "\n",
    "\n",
    "print(\"se in X is \",\"se\" in X)\n",
    "print(\"se in X is \",\"se\" in Y)"
   ]
  },
  {
   "cell_type": "markdown",
   "metadata": {},
   "source": [
    "## 07. テンプレートによる文生成"
   ]
  },
  {
   "cell_type": "markdown",
   "metadata": {},
   "source": [
    "引数x, y, zを受け取り「x時のyはz」という文字列を返す関数を実装せよ．さらに，x=12, y=”気温”, z=22.4として，実行結果を確認せよ．"
   ]
  },
  {
   "cell_type": "code",
   "execution_count": 60,
   "metadata": {},
   "outputs": [
    {
     "name": "stdout",
     "output_type": "stream",
     "text": [
      "12時の気温は22.4\n"
     ]
    }
   ],
   "source": [
    "def template(x,y,z):\n",
    "    print('{}時の{}は{}'.format(x,y,z))\n",
    "    \n",
    "template(12,\"気温\",22.4)\n",
    "    \n"
   ]
  },
  {
   "cell_type": "markdown",
   "metadata": {},
   "source": [
    "## 08. 暗号文"
   ]
  },
  {
   "cell_type": "markdown",
   "metadata": {},
   "source": [
    "与えられた文字列の各文字を，以下の仕様で変換する関数cipherを実装せよ．\n",
    "\n",
    "英小文字ならば(219 - 文字コード)の文字に置換\n",
    "その他の文字はそのまま出力\n",
    "この関数を用い，英語のメッセージを暗号化・復号化せよ．\n",
    "\n"
   ]
  },
  {
   "cell_type": "code",
   "execution_count": 71,
   "metadata": {},
   "outputs": [
    {
     "name": "stdout",
     "output_type": "stream",
     "text": [
      "FFusqwzspqJAtsUHJ\n",
      "FFfhjdahkjJAghUHJ\n"
     ]
    }
   ],
   "source": [
    "def ciper(data):\n",
    "    chr_list=list(data)\n",
    "    for i,item in enumerate(chr_list):\n",
    "        x=ord(item) #ordは文字を数字に変える\n",
    "        if 97 <= x <= 122:\n",
    "            chr_list[i]=chr(219-x)#chrは数字を文字に変える\n",
    "    return chr_list\n",
    "\n",
    "ana=ciper(\"FFfhjdahkjJAghUHJ\")\n",
    "print(\"\".join(ana))\n",
    "print(\"\".join(ciper(\"\".join(ana))))  #219-(219-x)=x#"
   ]
  },
  {
   "cell_type": "markdown",
   "metadata": {},
   "source": [
    "## 09. Typoglycemia"
   ]
  },
  {
   "cell_type": "markdown",
   "metadata": {},
   "source": [
    "スペースで区切られた単語列に対して，各単語の先頭と末尾の文字は残し，それ以外の文字の順序をランダムに並び替えるプログラムを作成せよ．ただし，長さが４以下の単語は並び替えないこととする．適当な英語の文（例えば”I couldn’t believe that I could actually understand what I was reading : the phenomenal power of the human mind .”）を与え，その実行結果を確認せよ．"
   ]
  },
  {
   "cell_type": "code",
   "execution_count": 106,
   "metadata": {},
   "outputs": [
    {
     "name": "stdout",
     "output_type": "stream",
     "text": [
      "I couldn’t believe that I could actually understand what I was reading : the phenomenal power of the human mind \n",
      "I cu’ldont beivlee that I culod atlulcay ustednnrad what I was rdianeg : the pemnheaonl pweor of the hamun mind\n"
     ]
    }
   ],
   "source": [
    "import random\n",
    "\n",
    "data = \"I couldn’t believe that I could actually understand what I was reading : the phenomenal power of the human mind \"\n",
    "output = []\n",
    "for item in data.split():\n",
    "    if len(item) <= 4:\n",
    "        output.append(item)\n",
    "    else:\n",
    "        mid = item[1:-1]\n",
    "        mid_shuf = random.sample(mid,len(mid))\n",
    "        output.append(item[0]+\"\".join(mid_shuf)+item[-1])\n",
    "print(data)     \n",
    "print(\" \".join(output))"
   ]
  }
 ],
 "metadata": {
  "kernelspec": {
   "display_name": "Python 3",
   "language": "python",
   "name": "python3"
  },
  "language_info": {
   "codemirror_mode": {
    "name": "ipython",
    "version": 3
   },
   "file_extension": ".py",
   "mimetype": "text/x-python",
   "name": "python",
   "nbconvert_exporter": "python",
   "pygments_lexer": "ipython3",
   "version": "3.7.3"
  }
 },
 "nbformat": 4,
 "nbformat_minor": 2
}
